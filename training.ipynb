{
 "cells": [
  {
   "cell_type": "code",
   "execution_count": 144,
   "metadata": {},
   "outputs": [],
   "source": [
    "import os,sys,glob\n",
    "import numpy as np\n",
    "import pandas as pd\n",
    "import matplotlib.pyplot as plt\n",
    "from utils import util\n",
    "from tqdm import tqdm\n",
    "from sklearn import svm\n",
    "from sklearn.preprocessing import StandardScaler\n",
    "from sklearn.model_selection import train_test_split"
   ]
  },
  {
   "cell_type": "markdown",
   "metadata": {},
   "source": [
    "one class classification regime<br>\n",
    "One class SVM <br>\n",
    "Support Vector Data Descriptor (SVDD) <br>\n",
    "one class multi max probability machine <br>\n",
    "dual slope min max <br>\n",
    "Generalized One-class Discriminative Sub-spaces (GODS) <br>"
   ]
  },
  {
   "cell_type": "code",
   "execution_count": null,
   "metadata": {},
   "outputs": [],
   "source": [
    "### one-class SVM\n",
    "def one_class_svm(X, nu=0.1, gamma='auto'):\n",
    "    clf = OneClassSVM(nu=nu, kernel='rbf', gamma=gamma)\n",
    "    clf.fit(X)\n",
    "    return clf"
   ]
  },
  {
   "cell_type": "code",
   "execution_count": 31,
   "metadata": {},
   "outputs": [],
   "source": [
    "df = pd.read_pickle('data/df_rotamer.pkl')\n",
    "df = df[df['num_NN_atom'] >0] # meaningful binding site data"
   ]
  },
  {
   "cell_type": "code",
   "execution_count": 315,
   "metadata": {},
   "outputs": [
    {
     "data": {
      "text/plain": [
       "<Axes: >"
      ]
     },
     "execution_count": 315,
     "metadata": {},
     "output_type": "execute_result"
    },
    {
     "data": {
      "image/png": "[encoded data removed]",
      "text/plain": [
       "<Figure size 640x480 with 1 Axes>"
      ]
     },
     "metadata": {},
     "output_type": "display_data"
    }
   ],
   "source": [
    "df['metal'].hist(bins=30)"
   ]
  },
  {
   "cell_type": "code",
   "execution_count": 325,
   "metadata": {},
   "outputs": [
    {
     "name": "stdout",
     "output_type": "stream",
     "text": [
      "CA\n",
      "MG\n",
      "K\n",
      "ZN\n",
      "NA\n"
     ]
    }
   ],
   "source": [
    "for metal in df['metal'].unique():\n",
    "    if sum(df['metal']==metal) >= 100:\n",
    "        print(metal)"
   ]
  },
  {
   "cell_type": "code",
   "execution_count": 50,
   "metadata": {},
   "outputs": [],
   "source": [
    "# df_CA = df[df['metal']=='CA']\n",
    "# df_MG = df[df['metal']=='MG']\n",
    "# df_K = df[df['metal']=='K']\n",
    "# df_ZN = df[df['metal']=='ZN']\n"
   ]
  },
  {
   "cell_type": "code",
   "execution_count": 327,
   "metadata": {},
   "outputs": [],
   "source": [
    "# df_MG[df_MG['num_NN_atom'] >0] #.hist()#['NN_atom_'] #['NN_atom_properties'][0]\n",
    "# df_K[df_K['num_NN_atom'] >0] #.hist()#['NN_atom_'] #['NN_atom_properties'][0]\n",
    "# df_ZN[df_ZN['num_NN_atom'] >0] #.hist()#['NN_atom_'] #['NN_atom_properties'][0]"
   ]
  },
  {
   "cell_type": "code",
   "execution_count": 52,
   "metadata": {},
   "outputs": [],
   "source": [
    "df_CA = df_CA[df_CA['num_NN_atom'] > 0] #.hist()#['NN_atom_'] #['NN_atom_properties'][0]"
   ]
  },
  {
   "cell_type": "code",
   "execution_count": 57,
   "metadata": {},
   "outputs": [],
   "source": [
    "df_CA_strong = df_CA[df_CA['num_NN_atom'] > 1]"
   ]
  },
  {
   "cell_type": "code",
   "execution_count": 90,
   "metadata": {},
   "outputs": [
    {
     "data": {
      "text/plain": [
       "({'atom_type': ['O', 'O', 'O', 'O'],\n",
       "  'l2_d': [2.4859436, 2.4573941, 2.4101844, 2.4119282],\n",
       "  'van_der_waals_radius': [152.0, 152.0, 152.0, 152.0],\n",
       "  'electronegativity': [3.44, 3.44, 3.44, 3.44],\n",
       "  'unshared_electron': [4.0, 4.0, 4.0, 4.0],\n",
       "  'valency': [6.0, 6.0, 6.0, 6.0]},\n",
       " 4)"
      ]
     },
     "execution_count": 90,
     "metadata": {},
     "output_type": "execute_result"
    }
   ],
   "source": [
    "ij=6\n",
    "df_CA['NN_atom_properties'][ij], df_CA['num_NN_atom'][ij]"
   ]
  },
  {
   "cell_type": "code",
   "execution_count": 79,
   "metadata": {},
   "outputs": [
    {
     "data": {
      "text/html": [
       "<div>\n",
       "<style scoped>\n",
       "    .dataframe tbody tr th:only-of-type {\n",
       "        vertical-align: middle;\n",
       "    }\n",
       "\n",
       "    .dataframe tbody tr th {\n",
       "        vertical-align: top;\n",
       "    }\n",
       "\n",
       "    .dataframe thead th {\n",
       "        text-align: right;\n",
       "    }\n",
       "</style>\n",
       "<table border=\"1\" class=\"dataframe\">\n",
       "  <thead>\n",
       "    <tr style=\"text-align: right;\">\n",
       "      <th></th>\n",
       "      <th>pdb</th>\n",
       "      <th>pdb_id</th>\n",
       "      <th>metal</th>\n",
       "      <th>ion</th>\n",
       "      <th>bound_residue</th>\n",
       "      <th>num_bound_residue</th>\n",
       "      <th>paper_bound_residue</th>\n",
       "      <th>num_paper_bound_residue</th>\n",
       "      <th>num_bound_chain</th>\n",
       "      <th>motif_binding_xyz</th>\n",
       "      <th>num_NN_atom</th>\n",
       "      <th>NN_atom_properties</th>\n",
       "    </tr>\n",
       "  </thead>\n",
       "  <tbody>\n",
       "    <tr>\n",
       "      <th>4</th>\n",
       "      <td>7MCI_1.pdb</td>\n",
       "      <td>7MCI</td>\n",
       "      <td>CA</td>\n",
       "      <td>Ca²⁺</td>\n",
       "      <td>[D, D, R, E]</td>\n",
       "      <td>4</td>\n",
       "      <td>ARG.ASP.GLU.</td>\n",
       "      <td>3</td>\n",
       "      <td>2</td>\n",
       "      <td>{'xyz': [[[-1.000e-03  5.978e+00 -3.136e+00], ...</td>\n",
       "      <td>4</td>\n",
       "      <td>{'atom_type': ['O', 'O', 'O', 'O'], 'l2_d': [2...</td>\n",
       "    </tr>\n",
       "    <tr>\n",
       "      <th>6</th>\n",
       "      <td>8AE1_1.pdb</td>\n",
       "      <td>8AE1</td>\n",
       "      <td>CA</td>\n",
       "      <td>Ca²⁺</td>\n",
       "      <td>[R, G, G, G, E, G]</td>\n",
       "      <td>6</td>\n",
       "      <td>ARG.GLU.GLY.</td>\n",
       "      <td>3</td>\n",
       "      <td>2</td>\n",
       "      <td>{'xyz': [[[ 2.682 -1.089 -2.729], [ 2.544 -2.4...</td>\n",
       "      <td>4</td>\n",
       "      <td>{'atom_type': ['O', 'O', 'O', 'O'], 'l2_d': [2...</td>\n",
       "    </tr>\n",
       "    <tr>\n",
       "      <th>23</th>\n",
       "      <td>5BU8_1.pdb</td>\n",
       "      <td>5BU8</td>\n",
       "      <td>CA</td>\n",
       "      <td>Ca²⁺</td>\n",
       "      <td>[N, Q]</td>\n",
       "      <td>2</td>\n",
       "      <td>ASN.GLN.</td>\n",
       "      <td>2</td>\n",
       "      <td>1</td>\n",
       "      <td>{'xyz': [[[-5.032 -1.285 -1.097], [-4.668 -0.0...</td>\n",
       "      <td>2</td>\n",
       "      <td>{'atom_type': ['O', 'O'], 'l2_d': [2.4455533, ...</td>\n",
       "    </tr>\n",
       "    <tr>\n",
       "      <th>41</th>\n",
       "      <td>6T9N_1.pdb</td>\n",
       "      <td>6T9N</td>\n",
       "      <td>CA</td>\n",
       "      <td>Ca²⁺</td>\n",
       "      <td>[L, L, L, L]</td>\n",
       "      <td>4</td>\n",
       "      <td>LEU.</td>\n",
       "      <td>1</td>\n",
       "      <td>4</td>\n",
       "      <td>{'xyz': [[[-3.515  4.859 -0.253], [-2.195  4.2...</td>\n",
       "      <td>4</td>\n",
       "      <td>{'atom_type': ['O', 'O', 'O', 'O'], 'l2_d': [2...</td>\n",
       "    </tr>\n",
       "    <tr>\n",
       "      <th>55</th>\n",
       "      <td>5DA5_1.pdb</td>\n",
       "      <td>5DA5</td>\n",
       "      <td>CA</td>\n",
       "      <td>Ca²⁺</td>\n",
       "      <td>[E, E, E, E]</td>\n",
       "      <td>4</td>\n",
       "      <td>GLU.</td>\n",
       "      <td>1</td>\n",
       "      <td>2</td>\n",
       "      <td>{'xyz': [[[-4.719 -1.158 -4.1  ], [-4.08  -0.7...</td>\n",
       "      <td>4</td>\n",
       "      <td>{'atom_type': ['O', 'O', 'O', 'O'], 'l2_d': [2...</td>\n",
       "    </tr>\n",
       "    <tr>\n",
       "      <th>...</th>\n",
       "      <td>...</td>\n",
       "      <td>...</td>\n",
       "      <td>...</td>\n",
       "      <td>...</td>\n",
       "      <td>...</td>\n",
       "      <td>...</td>\n",
       "      <td>...</td>\n",
       "      <td>...</td>\n",
       "      <td>...</td>\n",
       "      <td>...</td>\n",
       "      <td>...</td>\n",
       "      <td>...</td>\n",
       "    </tr>\n",
       "    <tr>\n",
       "      <th>2220</th>\n",
       "      <td>1LW5_2.pdb</td>\n",
       "      <td>1LW5</td>\n",
       "      <td>CA</td>\n",
       "      <td>Ca²⁺</td>\n",
       "      <td>[T, T, S, Q]</td>\n",
       "      <td>4</td>\n",
       "      <td>GLN.SER.THR.</td>\n",
       "      <td>3</td>\n",
       "      <td>2</td>\n",
       "      <td>{'xyz': [[[ 0.193 -1.526  5.262], [ 0.989 -1.5...</td>\n",
       "      <td>5</td>\n",
       "      <td>{'atom_type': ['O', 'O', 'O', 'O', 'O'], 'l2_d...</td>\n",
       "    </tr>\n",
       "    <tr>\n",
       "      <th>2226</th>\n",
       "      <td>3FG4_1.pdb</td>\n",
       "      <td>3FG4</td>\n",
       "      <td>CA</td>\n",
       "      <td>Ca²⁺</td>\n",
       "      <td>[E, N]</td>\n",
       "      <td>2</td>\n",
       "      <td>ASN.GLU.</td>\n",
       "      <td>2</td>\n",
       "      <td>2</td>\n",
       "      <td>{'xyz': [[[-3.75   4.341  0.751], [-3.482  2.9...</td>\n",
       "      <td>2</td>\n",
       "      <td>{'atom_type': ['O', 'O'], 'l2_d': [2.3205914, ...</td>\n",
       "    </tr>\n",
       "    <tr>\n",
       "      <th>2230</th>\n",
       "      <td>2B00_1.pdb</td>\n",
       "      <td>2B00</td>\n",
       "      <td>CA</td>\n",
       "      <td>Ca²⁺</td>\n",
       "      <td>[E, S, E]</td>\n",
       "      <td>3</td>\n",
       "      <td>GLU.SER.</td>\n",
       "      <td>2</td>\n",
       "      <td>1</td>\n",
       "      <td>{'xyz': [[[-5.858 -1.52   0.205], [-4.551 -1.1...</td>\n",
       "      <td>3</td>\n",
       "      <td>{'atom_type': ['O', 'O', 'O'], 'l2_d': [2.3417...</td>\n",
       "    </tr>\n",
       "    <tr>\n",
       "      <th>2234</th>\n",
       "      <td>1C3H_1.pdb</td>\n",
       "      <td>1C3H</td>\n",
       "      <td>CA</td>\n",
       "      <td>Ca²⁺</td>\n",
       "      <td>[N, V, D, Q, V, D, Q, Q, N, D]</td>\n",
       "      <td>10</td>\n",
       "      <td>ASN.ASP.GLN.VAL.</td>\n",
       "      <td>4</td>\n",
       "      <td>2</td>\n",
       "      <td>{'xyz': [[[3.755 0.878 4.795], [2.792 0.666 3....</td>\n",
       "      <td>6</td>\n",
       "      <td>{'atom_type': ['O', 'O', 'O', 'O', 'O', 'O'], ...</td>\n",
       "    </tr>\n",
       "    <tr>\n",
       "      <th>2237</th>\n",
       "      <td>6SAG_1.pdb</td>\n",
       "      <td>6SAG</td>\n",
       "      <td>CA</td>\n",
       "      <td>Ca²⁺</td>\n",
       "      <td>[N, P]</td>\n",
       "      <td>2</td>\n",
       "      <td>ASN.GLU.PRO.</td>\n",
       "      <td>3</td>\n",
       "      <td>1</td>\n",
       "      <td>{'xyz': [[[3.386 0.054 5.462], [2.511 0.171 4....</td>\n",
       "      <td>2</td>\n",
       "      <td>{'atom_type': ['O', 'O'], 'l2_d': [2.544683, 2...</td>\n",
       "    </tr>\n",
       "  </tbody>\n",
       "</table>\n",
       "<p>335 rows × 12 columns</p>\n",
       "</div>"
      ],
      "text/plain": [
       "             pdb pdb_id metal   ion                   bound_residue  \\\n",
       "4     7MCI_1.pdb   7MCI    CA  Ca²⁺                    [D, D, R, E]   \n",
       "6     8AE1_1.pdb   8AE1    CA  Ca²⁺              [R, G, G, G, E, G]   \n",
       "23    5BU8_1.pdb   5BU8    CA  Ca²⁺                          [N, Q]   \n",
       "41    6T9N_1.pdb   6T9N    CA  Ca²⁺                    [L, L, L, L]   \n",
       "55    5DA5_1.pdb   5DA5    CA  Ca²⁺                    [E, E, E, E]   \n",
       "...          ...    ...   ...   ...                             ...   \n",
       "2220  1LW5_2.pdb   1LW5    CA  Ca²⁺                    [T, T, S, Q]   \n",
       "2226  3FG4_1.pdb   3FG4    CA  Ca²⁺                          [E, N]   \n",
       "2230  2B00_1.pdb   2B00    CA  Ca²⁺                       [E, S, E]   \n",
       "2234  1C3H_1.pdb   1C3H    CA  Ca²⁺  [N, V, D, Q, V, D, Q, Q, N, D]   \n",
       "2237  6SAG_1.pdb   6SAG    CA  Ca²⁺                          [N, P]   \n",
       "\n",
       "      num_bound_residue paper_bound_residue  num_paper_bound_residue  \\\n",
       "4                     4        ARG.ASP.GLU.                        3   \n",
       "6                     6        ARG.GLU.GLY.                        3   \n",
       "23                    2            ASN.GLN.                        2   \n",
       "41                    4                LEU.                        1   \n",
       "55                    4                GLU.                        1   \n",
       "...                 ...                 ...                      ...   \n",
       "2220                  4        GLN.SER.THR.                        3   \n",
       "2226                  2            ASN.GLU.                        2   \n",
       "2230                  3            GLU.SER.                        2   \n",
       "2234                 10    ASN.ASP.GLN.VAL.                        4   \n",
       "2237                  2        ASN.GLU.PRO.                        3   \n",
       "\n",
       "      num_bound_chain                                  motif_binding_xyz  \\\n",
       "4                   2  {'xyz': [[[-1.000e-03  5.978e+00 -3.136e+00], ...   \n",
       "6                   2  {'xyz': [[[ 2.682 -1.089 -2.729], [ 2.544 -2.4...   \n",
       "23                  1  {'xyz': [[[-5.032 -1.285 -1.097], [-4.668 -0.0...   \n",
       "41                  4  {'xyz': [[[-3.515  4.859 -0.253], [-2.195  4.2...   \n",
       "55                  2  {'xyz': [[[-4.719 -1.158 -4.1  ], [-4.08  -0.7...   \n",
       "...               ...                                                ...   \n",
       "2220                2  {'xyz': [[[ 0.193 -1.526  5.262], [ 0.989 -1.5...   \n",
       "2226                2  {'xyz': [[[-3.75   4.341  0.751], [-3.482  2.9...   \n",
       "2230                1  {'xyz': [[[-5.858 -1.52   0.205], [-4.551 -1.1...   \n",
       "2234                2  {'xyz': [[[3.755 0.878 4.795], [2.792 0.666 3....   \n",
       "2237                1  {'xyz': [[[3.386 0.054 5.462], [2.511 0.171 4....   \n",
       "\n",
       "      num_NN_atom                                 NN_atom_properties  \n",
       "4               4  {'atom_type': ['O', 'O', 'O', 'O'], 'l2_d': [2...  \n",
       "6               4  {'atom_type': ['O', 'O', 'O', 'O'], 'l2_d': [2...  \n",
       "23              2  {'atom_type': ['O', 'O'], 'l2_d': [2.4455533, ...  \n",
       "41              4  {'atom_type': ['O', 'O', 'O', 'O'], 'l2_d': [2...  \n",
       "55              4  {'atom_type': ['O', 'O', 'O', 'O'], 'l2_d': [2...  \n",
       "...           ...                                                ...  \n",
       "2220            5  {'atom_type': ['O', 'O', 'O', 'O', 'O'], 'l2_d...  \n",
       "2226            2  {'atom_type': ['O', 'O'], 'l2_d': [2.3205914, ...  \n",
       "2230            3  {'atom_type': ['O', 'O', 'O'], 'l2_d': [2.3417...  \n",
       "2234            6  {'atom_type': ['O', 'O', 'O', 'O', 'O', 'O'], ...  \n",
       "2237            2  {'atom_type': ['O', 'O'], 'l2_d': [2.544683, 2...  \n",
       "\n",
       "[335 rows x 12 columns]"
      ]
     },
     "execution_count": 79,
     "metadata": {},
     "output_type": "execute_result"
    }
   ],
   "source": [
    "df_CA_strong"
   ]
  },
  {
   "cell_type": "code",
   "execution_count": 99,
   "metadata": {},
   "outputs": [],
   "source": [
    "df_CA_NN_atom_properties = pd.DataFrame(df_CA['NN_atom_properties'])#.apply(lambda x: pd.DataFrame(x))"
   ]
  },
  {
   "cell_type": "code",
   "execution_count": 103,
   "metadata": {},
   "outputs": [
    {
     "data": {
      "text/plain": [
       "7"
      ]
     },
     "execution_count": 103,
     "metadata": {},
     "output_type": "execute_result"
    }
   ],
   "source": [
    "#max(df_CA['num_NN_atom'])"
   ]
  },
  {
   "cell_type": "code",
   "execution_count": 297,
   "metadata": {},
   "outputs": [],
   "source": [
    "#df_CA_NN_atom_properties#.values[4]"
   ]
  },
  {
   "cell_type": "code",
   "execution_count": 116,
   "metadata": {},
   "outputs": [
    {
     "data": {
      "text/plain": [
       "dict_keys(['atom_type', 'l2_d', 'van_der_waals_radius', 'electronegativity', 'unshared_electron', 'valency'])"
      ]
     },
     "execution_count": 116,
     "metadata": {},
     "output_type": "execute_result"
    }
   ],
   "source": [
    "df_CA['NN_atom_properties'][0].keys()"
   ]
  },
  {
   "cell_type": "code",
   "execution_count": 142,
   "metadata": {},
   "outputs": [],
   "source": [
    "#one_hot encode all data to a vector of 1x8, 0 if not present, non-0 if present\n",
    "#dict_keys(['atom_type', 'l2_d', 'van_der_waals_radius', 'electronegativity', 'unshared_electron', 'valency'])\n",
    "df_properties = {'pdb':[], 'pdb_id':[], 'NN_atoms':[], 'l2d':[], 'van_der_waals_radius':[], 'electronegativity':[], 'unshared_electron':[], 'valency':[]}\n",
    "for i in range(len(df_CA)):\n",
    "    NN_atoms = np.zeros(8)\n",
    "    l2d = np.zeros(8)\n",
    "    van_der_waals_radius = np.zeros(8)\n",
    "    electronegativity = np.zeros(8)\n",
    "    unshared_electron = np.zeros(8)\n",
    "    valency = np.zeros(8)\n",
    "    for j in range(df_CA['num_NN_atom'].values[i]):\n",
    "            NN_atoms_val = len(df_CA['NN_atom_properties'].values[i]['atom_type'])\n",
    "            NN_atoms[:NN_atoms_val] = 1\n",
    "            l2d_val = df_CA['NN_atom_properties'].values[i]['l2_d']\n",
    "            van_der_waals_radius_val = df_CA['NN_atom_properties'].values[i]['van_der_waals_radius']\n",
    "            electronegativity_val = df_CA['NN_atom_properties'].values[i]['electronegativity']\n",
    "            unshared_electron_val = df_CA['NN_atom_properties'].values[i]['unshared_electron']\n",
    "            valency_val = df_CA['NN_atom_properties'].values[i]['valency']\n",
    "            for k in range(NN_atoms_val):\n",
    "                l2d[k] = l2d_val[k]\n",
    "                van_der_waals_radius[k] = van_der_waals_radius_val[k]\n",
    "                electronegativity[k] = electronegativity_val[k]\n",
    "                unshared_electron[k] = unshared_electron_val[k]\n",
    "                valency[k] = valency_val[k]\n",
    "    df_properties['NN_atoms'].append(NN_atoms)\n",
    "    df_properties['l2d'].append(l2d)\n",
    "    df_properties['van_der_waals_radius'].append(van_der_waals_radius)\n",
    "    df_properties['electronegativity'].append(electronegativity)\n",
    "    df_properties['unshared_electron'].append(unshared_electron)\n",
    "    df_properties['valency'].append(valency)\n",
    "    df_properties['pdb'].append(df_CA['pdb'].values[i])\n",
    "    df_properties['pdb_id'].append(df_CA['pdb_id'].values[i])\n",
    "df_properties = pd.DataFrame(df_properties)"
   ]
  },
  {
   "cell_type": "code",
   "execution_count": 262,
   "metadata": {},
   "outputs": [],
   "source": [
    "X_data = df_CA_NN_atom_properties[['NN_atoms', 'l2d', 'van_der_waals_radius', 'electronegativity', 'unshared_electron', 'valency']]\n",
    "y_data = np.ones(np.shape(X_data)) # one class positive data"
   ]
  },
  {
   "cell_type": "code",
   "execution_count": 263,
   "metadata": {},
   "outputs": [
    {
     "data": {
      "text/plain": [
       "433"
      ]
     },
     "execution_count": 263,
     "metadata": {},
     "output_type": "execute_result"
    }
   ],
   "source": [
    "len(X_data['van_der_waals_radius'])"
   ]
  },
  {
   "cell_type": "code",
   "execution_count": 264,
   "metadata": {},
   "outputs": [],
   "source": [
    "X_data_NN_atoms = X_data['NN_atoms'].values\n",
    "X_data_NN_atoms = np.concatenate(X_data_NN_atoms, axis=0)\n",
    "X_data_NN_atoms= np.reshape(X_data_NN_atoms, (len(X_data['NN_atoms']), 8))\n",
    "\n",
    "X_data_l2d = X_data['l2d'].values\n",
    "X_data_l2d = np.concatenate(X_data_l2d, axis=0)\n",
    "X_data_l2d= np.reshape(X_data_l2d, (len(X_data['l2d']), 8))\n",
    "\n",
    "X_data_van_der_waals_radius = X_data['van_der_waals_radius'].values\n",
    "X_data_van_der_waals_radius = np.concatenate(X_data_van_der_waals_radius, axis=0)\n",
    "X_data_van_der_waals_radius= np.reshape(X_data_van_der_waals_radius, (len(X_data['van_der_waals_radius']), 8))\n",
    "\n",
    "X_data_electronegativity = X_data['electronegativity'].values\n",
    "X_data_electronegativity = np.concatenate(X_data_electronegativity, axis=0)\n",
    "X_data_electronegativity= np.reshape(X_data_electronegativity, (len(X_data['electronegativity']), 8))\n",
    "\n",
    "X_data_unshared_electron = X_data['unshared_electron'].values\n",
    "X_data_unshared_electron = np.concatenate(X_data_unshared_electron, axis=0)\n",
    "X_data_unshared_electron= np.reshape(X_data_unshared_electron, (len(X_data['unshared_electron']), 8))\n",
    "\n",
    "X_data_valency = X_data['valency'].values\n",
    "X_data_valency = np.concatenate(X_data_valency, axis=0)\n",
    "X_data_valency= np.reshape(X_data_valency, (len(X_data['valency']), 8))\n",
    "\n",
    "X_data = np.concatenate((X_data_NN_atoms, X_data_l2d, X_data_van_der_waals_radius, X_data_electronegativity, X_data_unshared_electron, X_data_valency), axis=1)\n",
    "y_data = np.ones(np.shape(X_data)[0]) # one class positive data"
   ]
  },
  {
   "cell_type": "code",
   "execution_count": 266,
   "metadata": {},
   "outputs": [
    {
     "data": {
      "text/plain": [
       "(433,)"
      ]
     },
     "execution_count": 266,
     "metadata": {},
     "output_type": "execute_result"
    }
   ],
   "source": [
    "np.shape(y_data)"
   ]
  },
  {
   "cell_type": "code",
   "execution_count": 271,
   "metadata": {},
   "outputs": [],
   "source": [
    "### corupt X_data to generate psuedo negative data\n",
    "X_data_corrupt = X_data.copy()\n",
    "X_data_corrupt = X_data_corrupt + np.mean(X_data,axis=0)*2*np.std(X_data,axis=0)#*np.random.randn(np.shape(X_data_corrupt)[0], np.shape(X_data_corrupt)[1])\n",
    "y_data_corrupt = np.zeros(np.shape(X_data_corrupt)[0]) # one class negative data\n",
    "#X_data_corrupt['NN_atoms'] = X_data_corrupt['NN_atoms'] - np.tile(np.mean(X_data_corrupt['NN_atoms']), (len(X_data_corrupt['NN_atoms']), 1))\n",
    "#convert X_data_corrupt['NN_atoms'] to int, and replace negative values as 0\n",
    "#X_data_corrupt['NN_atoms'] = X_data_corrupt['NN_atoms'].astype(int)\n",
    "#X_data_corrupt['NN_atoms'][X_data_corrupt['NN_atoms'] < 0] = 0\n",
    "\n",
    "# X_data_corrupt['l2d'] = X_data_corrupt['l2d'] + np.mean(X_data_corrupt['l2d'])*2*np.std(X_data_corrupt['l2d'])*np.random.randn(len(X_data_corrupt['l2d']))\n",
    "# X_data_corrupt['van_der_waals_radius'] = X_data_corrupt['van_der_waals_radius'] + np.mean(X_data_corrupt['van_der_waals_radius'])*2*np.std(X_data_corrupt['van_der_waals_radius'])*np.random.randn(len(X_data_corrupt['van_der_waals_radius']))\n",
    "# X_data_corrupt['electronegativity'] = X_data_corrupt['electronegativity'] - np.mean(X_data_corrupt['electronegativity'])\n",
    "# X_data_corrupt['electronegativity'][X_data_corrupt['electronegativity'] < 0] = 0\n",
    "\n",
    "# X_data_corrupt['unshared_electron'] = X_data_corrupt['unshared_electron'] - np.mean(X_data_corrupt['unshared_electron'])\n",
    "# X_data_corrupt['unshared_electron'][X_data_corrupt['unshared_electron'] < 0] = 0\n"
   ]
  },
  {
   "cell_type": "code",
   "execution_count": 272,
   "metadata": {},
   "outputs": [
    {
     "data": {
      "text/plain": [
       "array([0., 0., 0., 0., 0., 0., 0., 0., 0., 0., 0., 0., 0., 0., 0., 0., 0.,\n",
       "       0., 0., 0., 0., 0., 0., 0., 0., 0., 0., 0., 0., 0., 0., 0., 0., 0.,\n",
       "       0., 0., 0., 0., 0., 0., 0., 0., 0., 0., 0., 0., 0., 0., 0., 0., 0.,\n",
       "       0., 0., 0., 0., 0., 0., 0., 0., 0., 0., 0., 0., 0., 0., 0., 0., 0.,\n",
       "       0., 0., 0., 0., 0., 0., 0., 0., 0., 0., 0., 0., 0., 0., 0., 0., 0.,\n",
       "       0., 0., 0., 0., 0., 0., 0., 0., 0., 0., 0., 0., 0., 0., 0., 0., 0.,\n",
       "       0., 0., 0., 0., 0., 0., 0., 0., 0., 0., 0., 0., 0., 0., 0., 0., 0.,\n",
       "       0., 0., 0., 0., 0., 0., 0., 0., 0., 0., 0., 0., 0., 0., 0., 0., 0.,\n",
       "       0., 0., 0., 0., 0., 0., 0., 0., 0., 0., 0., 0., 0., 0., 0., 0., 0.,\n",
       "       0., 0., 0., 0., 0., 0., 0., 0., 0., 0., 0., 0., 0., 0., 0., 0., 0.,\n",
       "       0., 0., 0., 0., 0., 0., 0., 0., 0., 0., 0., 0., 0., 0., 0., 0., 0.,\n",
       "       0., 0., 0., 0., 0., 0., 0., 0., 0., 0., 0., 0., 0., 0., 0., 0., 0.,\n",
       "       0., 0., 0., 0., 0., 0., 0., 0., 0., 0., 0., 0., 0., 0., 0., 0., 0.,\n",
       "       0., 0., 0., 0., 0., 0., 0., 0., 0., 0., 0., 0., 0., 0., 0., 0., 0.,\n",
       "       0., 0., 0., 0., 0., 0., 0., 0., 0., 0., 0., 0., 0., 0., 0., 0., 0.,\n",
       "       0., 0., 0., 0., 0., 0., 0., 0., 0., 0., 0., 0., 0., 0., 0., 0., 0.,\n",
       "       0., 0., 0., 0., 0., 0., 0., 0., 0., 0., 0., 0., 0., 0., 0., 0., 0.,\n",
       "       0., 0., 0., 0., 0., 0., 0., 0., 0., 0., 0., 0., 0., 0., 0., 0., 0.,\n",
       "       0., 0., 0., 0., 0., 0., 0., 0., 0., 0., 0., 0., 0., 0., 0., 0., 0.,\n",
       "       0., 0., 0., 0., 0., 0., 0., 0., 0., 0., 0., 0., 0., 0., 0., 0., 0.,\n",
       "       0., 0., 0., 0., 0., 0., 0., 0., 0., 0., 0., 0., 0., 0., 0., 0., 0.,\n",
       "       0., 0., 0., 0., 0., 0., 0., 0., 0., 0., 0., 0., 0., 0., 0., 0., 0.,\n",
       "       0., 0., 0., 0., 0., 0., 0., 0., 0., 0., 0., 0., 0., 0., 0., 0., 0.,\n",
       "       0., 0., 0., 0., 0., 0., 0., 0., 0., 0., 0., 0., 0., 0., 0., 0., 0.,\n",
       "       0., 0., 0., 0., 0., 0., 0., 0., 0., 0., 0., 0., 0., 0., 0., 0., 0.,\n",
       "       0., 0., 0., 0., 0., 0., 0., 0.])"
      ]
     },
     "execution_count": 272,
     "metadata": {},
     "output_type": "execute_result"
    }
   ],
   "source": [
    "y_data_corrupt"
   ]
  },
  {
   "cell_type": "code",
   "execution_count": 273,
   "metadata": {},
   "outputs": [],
   "source": [
    "X_data_all = np.concatenate((X_data, X_data_corrupt), axis=0)\n",
    "y_data_all = np.concatenate((y_data, y_data_corrupt), axis=0)"
   ]
  },
  {
   "cell_type": "code",
   "execution_count": 301,
   "metadata": {},
   "outputs": [],
   "source": [
    "X_train, X_test, y_train, y_test = train_test_split(X_data_all, y_data_all, test_size=0.1, random_state=42)\n",
    "scaler = StandardScaler()\n",
    "X_train_scaled = scaler.fit_transform(X_train)\n",
    "X_test_scaled = scaler.transform(X_test)"
   ]
  },
  {
   "cell_type": "code",
   "execution_count": 310,
   "metadata": {},
   "outputs": [],
   "source": [
    "nu = 0.2  # The parameter nu, which controls the number of support vectors and the training error\n",
    "kernel = 'rbf'  # Kernel function, e.g., 'rbf', 'linear', 'poly', 'sigmoid'\n",
    "gamma = 'scale'  # Gamma parameter for 'rbf', 'poly', and 'sigmoid' kernels\n",
    "model = svm.OneClassSVM(nu=nu, kernel=kernel, gamma=gamma, verbose=2, tol=1e-4)"
   ]
  },
  {
   "cell_type": "code",
   "execution_count": 311,
   "metadata": {},
   "outputs": [
    {
     "name": "stdout",
     "output_type": "stream",
     "text": [
      "[LibSVM]*\n",
      "optimization finished, #iter = 210\n",
      "obj = 2658.931998, rho = 35.722036\n",
      "nSV = 162, nBSV = 149\n"
     ]
    },
    {
     "data": {
      "text/html": [
       "<style>#sk-container-id-7 {color: black;background-color: white;}#sk-container-id-7 pre{padding: 0;}#sk-container-id-7 div.sk-toggleable {background-color: white;}#sk-container-id-7 label.sk-toggleable__label {cursor: pointer;display: block;width: 100%;margin-bottom: 0;padding: 0.3em;box-sizing: border-box;text-align: center;}#sk-container-id-7 label.sk-toggleable__label-arrow:before {content: \"▸\";float: left;margin-right: 0.25em;color: #696969;}#sk-container-id-7 label.sk-toggleable__label-arrow:hover:before {color: black;}#sk-container-id-7 div.sk-estimator:hover label.sk-toggleable__label-arrow:before {color: black;}#sk-container-id-7 div.sk-toggleable__content {max-height: 0;max-width: 0;overflow: hidden;text-align: left;background-color: #f0f8ff;}#sk-container-id-7 div.sk-toggleable__content pre {margin: 0.2em;color: black;border-radius: 0.25em;background-color: #f0f8ff;}#sk-container-id-7 input.sk-toggleable__control:checked~div.sk-toggleable__content {max-height: 200px;max-width: 100%;overflow: auto;}#sk-container-id-7 input.sk-toggleable__control:checked~label.sk-toggleable__label-arrow:before {content: \"▾\";}#sk-container-id-7 div.sk-estimator input.sk-toggleable__control:checked~label.sk-toggleable__label {background-color: #d4ebff;}#sk-container-id-7 div.sk-label input.sk-toggleable__control:checked~label.sk-toggleable__label {background-color: #d4ebff;}#sk-container-id-7 input.sk-hidden--visually {border: 0;clip: rect(1px 1px 1px 1px);clip: rect(1px, 1px, 1px, 1px);height: 1px;margin: -1px;overflow: hidden;padding: 0;position: absolute;width: 1px;}#sk-container-id-7 div.sk-estimator {font-family: monospace;background-color: #f0f8ff;border: 1px dotted black;border-radius: 0.25em;box-sizing: border-box;margin-bottom: 0.5em;}#sk-container-id-7 div.sk-estimator:hover {background-color: #d4ebff;}#sk-container-id-7 div.sk-parallel-item::after {content: \"\";width: 100%;border-bottom: 1px solid gray;flex-grow: 1;}#sk-container-id-7 div.sk-label:hover label.sk-toggleable__label {background-color: #d4ebff;}#sk-container-id-7 div.sk-serial::before {content: \"\";position: absolute;border-left: 1px solid gray;box-sizing: border-box;top: 0;bottom: 0;left: 50%;z-index: 0;}#sk-container-id-7 div.sk-serial {display: flex;flex-direction: column;align-items: center;background-color: white;padding-right: 0.2em;padding-left: 0.2em;position: relative;}#sk-container-id-7 div.sk-item {position: relative;z-index: 1;}#sk-container-id-7 div.sk-parallel {display: flex;align-items: stretch;justify-content: center;background-color: white;position: relative;}#sk-container-id-7 div.sk-item::before, #sk-container-id-7 div.sk-parallel-item::before {content: \"\";position: absolute;border-left: 1px solid gray;box-sizing: border-box;top: 0;bottom: 0;left: 50%;z-index: -1;}#sk-container-id-7 div.sk-parallel-item {display: flex;flex-direction: column;z-index: 1;position: relative;background-color: white;}#sk-container-id-7 div.sk-parallel-item:first-child::after {align-self: flex-end;width: 50%;}#sk-container-id-7 div.sk-parallel-item:last-child::after {align-self: flex-start;width: 50%;}#sk-container-id-7 div.sk-parallel-item:only-child::after {width: 0;}#sk-container-id-7 div.sk-dashed-wrapped {border: 1px dashed gray;margin: 0 0.4em 0.5em 0.4em;box-sizing: border-box;padding-bottom: 0.4em;background-color: white;}#sk-container-id-7 div.sk-label label {font-family: monospace;font-weight: bold;display: inline-block;line-height: 1.2em;}#sk-container-id-7 div.sk-label-container {text-align: center;}#sk-container-id-7 div.sk-container {/* jupyter's `normalize.less` sets `[hidden] { display: none; }` but bootstrap.min.css set `[hidden] { display: none !important; }` so we also need the `!important` here to be able to override the default hidden behavior on the sphinx rendered scikit-learn.org. See: https://github.com/scikit-learn/scikit-learn/issues/21755 */display: inline-block !important;position: relative;}#sk-container-id-7 div.sk-text-repr-fallback {display: none;}</style><div id=\"sk-container-id-7\" class=\"sk-top-container\"><div class=\"sk-text-repr-fallback\"><pre>OneClassSVM(nu=0.2, tol=0.0001, verbose=2)</pre><b>In a Jupyter environment, please rerun this cell to show the HTML representation or trust the notebook. <br />On GitHub, the HTML representation is unable to render, please try loading this page with nbviewer.org.</b></div><div class=\"sk-container\" hidden><div class=\"sk-item\"><div class=\"sk-estimator sk-toggleable\"><input class=\"sk-toggleable__control sk-hidden--visually\" id=\"sk-estimator-id-7\" type=\"checkbox\" checked><label for=\"sk-estimator-id-7\" class=\"sk-toggleable__label sk-toggleable__label-arrow\">OneClassSVM</label><div class=\"sk-toggleable__content\"><pre>OneClassSVM(nu=0.2, tol=0.0001, verbose=2)</pre></div></div></div></div></div>"
      ],
      "text/plain": [
       "OneClassSVM(nu=0.2, tol=0.0001, verbose=2)"
      ]
     },
     "execution_count": 311,
     "metadata": {},
     "output_type": "execute_result"
    }
   ],
   "source": [
    "model.fit(X_train_scaled)#, verbose=2)"
   ]
  },
  {
   "cell_type": "code",
   "execution_count": 313,
   "metadata": {},
   "outputs": [],
   "source": [
    "train_score = model.score_samples(X_train_scaled)\n",
    "test_score = model.score_samples(X_test_scaled)"
   ]
  },
  {
   "cell_type": "code",
   "execution_count": 296,
   "metadata": {},
   "outputs": [],
   "source": [
    "#test_score"
   ]
  },
  {
   "cell_type": "code",
   "execution_count": 289,
   "metadata": {},
   "outputs": [
    {
     "data": {
      "text/plain": [
       "['one_class_svm_model.pkl']"
      ]
     },
     "execution_count": 289,
     "metadata": {},
     "output_type": "execute_result"
    }
   ],
   "source": [
    "import joblib\n",
    "joblib.dump(model, 'weight/one_class_svm_model_CA.pkl')"
   ]
  },
  {
   "cell_type": "code",
   "execution_count": 176,
   "metadata": {},
   "outputs": [
    {
     "data": {
      "text/plain": [
       "(433, 8)"
      ]
     },
     "execution_count": 176,
     "metadata": {},
     "output_type": "execute_result"
    }
   ],
   "source": [
    "np.ones(np.shape(X_data_corrupt['NN_atoms']))\n",
    "np.mean(X_data_corrupt['NN_atoms'])\n",
    "np.tile(np.mean(X_data_corrupt['NN_atoms']), (len(X_data_corrupt['NN_atoms']), 1))"
   ]
  },
  {
   "cell_type": "code",
   "execution_count": 208,
   "metadata": {},
   "outputs": [],
   "source": [
    "tmp = np.asarray(X_data_corrupt['l2d'])\n",
    "tmp_matrix = np.concatenate(tmp, axis=0)\n",
    "tmp_matrix= np.reshape(tmp_matrix, (len(X_data_corrupt['NN_atoms']), 8))\n",
    "#3-np.tile(np.mean(X_data_corrupt['NN_atoms']), (len(X_data_corrupt['NN_atoms']), 1))"
   ]
  },
  {
   "cell_type": "code",
   "execution_count": 212,
   "metadata": {},
   "outputs": [],
   "source": [
    "X_data_corrupt[-1]"
   ]
  },
  {
   "cell_type": "code",
   "execution_count": 222,
   "metadata": {},
   "outputs": [],
   "source": [
    "tmp_matrix = np.concatenate(X_data['NN_atoms'], axis=0)"
   ]
  },
  {
   "cell_type": "code",
   "execution_count": 314,
   "metadata": {},
   "outputs": [
    {
     "data": {
      "image/png": "[encoded data removed]",
      "text/plain": [
       "<Figure size 800x600 with 1 Axes>"
      ]
     },
     "metadata": {},
     "output_type": "display_data"
    }
   ],
   "source": [
    "from sklearn.metrics import roc_curve, precision_recall_curve, auc\n",
    "\n",
    "# Assuming you have already loaded or generated your test data as X_test_scaled and y_test\n",
    "\n",
    "# Predict scores on the test set\n",
    "test_scores = model.score_samples(X_test_scaled)\n",
    "\n",
    "# Calculate ROC curve\n",
    "fpr, tpr, _ = roc_curve(y_test, -test_scores)  # Using negative scores as One-Class SVM's predict function outputs negative scores\n",
    "\n",
    "# Calculate Precision-Recall curve\n",
    "precision, recall, _ = precision_recall_curve(y_test, -test_scores)\n",
    "\n",
    "# Calculate Area Under ROC curve (AUC-ROC)\n",
    "roc_auc = auc(fpr, tpr)\n",
    "\n",
    "# Calculate Area Under Precision-Recall curve (AUC-PR)\n",
    "pr_auc = auc(recall, precision)\n",
    "\n",
    "# Plot ROC curve\n",
    "plt.figure(figsize=(8, 6))\n",
    "plt.plot(fpr, tpr, color='blue', lw=2, label='ROC curve (AUC = {:.2f})'.format(roc_auc))\n",
    "plt.plot([0, 1], [0, 1], color='gray', linestyle='--')\n",
    "plt.xlim([0.0, 1.0])\n",
    "plt.ylim([0.0, 1.05])\n",
    "plt.xlabel('False Positive Rate')\n",
    "plt.ylabel('True Positive Rate')\n",
    "plt.title('Receiver Operating Characteristic (ROC) Curve')\n",
    "plt.legend(loc='lower right')\n",
    "plt.grid(True)\n",
    "plt.show()"
   ]
  }
 ],
 "metadata": {
  "kernelspec": {
   "display_name": "SE3nv_dimaio",
   "language": "python",
   "name": "python3"
  },
  "language_info": {
   "codemirror_mode": {
    "name": "ipython",
    "version": 3
   },
   "file_extension": ".py",
   "mimetype": "text/x-python",
   "name": "python",
   "nbconvert_exporter": "python",
   "pygments_lexer": "ipython3",
   "version": "3.10.11"
  }
 },
 "nbformat": 4,
 "nbformat_minor": 2
}
