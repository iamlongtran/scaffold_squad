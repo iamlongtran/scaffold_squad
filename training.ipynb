{
 "cells": [
  {
   "cell_type": "code",
   "execution_count": 1,
   "metadata": {},
   "outputs": [],
   "source": [
    "import os,sys,glob\n",
    "import numpy as np\n",
    "import pandas as pd\n",
    "import matplotlib.pyplot as plt\n",
    "from utils import util\n",
    "from tqdm import tqdm\n",
    "from sklearn import svm\n",
    "from sklearn.preprocessing import StandardScaler\n",
    "from sklearn.model_selection import train_test_split\n",
    "import joblib\n",
    "from sklearn.metrics import roc_curve, precision_recall_curve, auc\n"
   ]
  },
  {
   "cell_type": "markdown",
   "metadata": {},
   "source": [
    "one class classification regime<br>\n",
    "One class SVM <br>\n",
    "Support Vector Data Descriptor (SVDD) <br>\n",
    "one class multi max probability machine <br>\n",
    "dual slope min max <br>\n",
    "Generalized One-class Discriminative Sub-spaces (GODS) <br>"
   ]
  },
  {
   "cell_type": "code",
   "execution_count": 2,
   "metadata": {},
   "outputs": [],
   "source": [
    "### one-class SVM pseudocode\n",
    "def one_class_svm(X, nu=0.1, gamma='auto'):\n",
    "    clf = OneClassSVM(nu=nu, kernel='rbf', gamma=gamma)\n",
    "    clf.fit(X)\n",
    "    return clf"
   ]
  },
  {
   "cell_type": "code",
   "execution_count": 2,
   "metadata": {},
   "outputs": [],
   "source": [
    "df = pd.read_pickle('data/df_rotamer.pkl')\n",
    "df = df[df['num_NN_atom'] >0] # meaningful binding site data"
   ]
  },
  {
   "cell_type": "code",
   "execution_count": 3,
   "metadata": {},
   "outputs": [
    {
     "data": {
      "image/png": "[encoded data removed]",
      "text/plain": [
       "<Figure size 640x480 with 1 Axes>"
      ]
     },
     "metadata": {},
     "output_type": "display_data"
    }
   ],
   "source": [
    "df['metal'].hist(bins=50)\n",
    "plt.xticks(rotation='vertical')\n",
    "plt.show()"
   ]
  },
  {
   "cell_type": "code",
   "execution_count": 4,
   "metadata": {},
   "outputs": [],
   "source": [
    "metals = []\n",
    "for metal in df['metal'].unique():\n",
    "    if sum(df['metal']==metal) >= 100:\n",
    "        metals.append(metal)"
   ]
  },
  {
   "cell_type": "code",
   "execution_count": 50,
   "metadata": {},
   "outputs": [],
   "source": [
    "# df_CA = df[df['metal']=='CA']\n",
    "# df_MG = df[df['metal']=='MG']\n",
    "# df_K = df[df['metal']=='K']\n",
    "# df_ZN = df[df['metal']=='ZN']\n"
   ]
  },
  {
   "cell_type": "code",
   "execution_count": 327,
   "metadata": {},
   "outputs": [],
   "source": [
    "# df_MG[df_MG['num_NN_atom'] >0] #.hist()#['NN_atom_'] #['NN_atom_properties'][0]\n",
    "# df_K[df_K['num_NN_atom'] >0] #.hist()#['NN_atom_'] #['NN_atom_properties'][0]\n",
    "# df_ZN[df_ZN['num_NN_atom'] >0] #.hist()#['NN_atom_'] #['NN_atom_properties'][0]"
   ]
  },
  {
   "cell_type": "code",
   "execution_count": 52,
   "metadata": {},
   "outputs": [],
   "source": [
    "# df_CA = df_CA[df_CA['num_NN_atom'] > 0] #.hist()#['NN_atom_'] #['NN_atom_properties'][0]"
   ]
  },
  {
   "cell_type": "code",
   "execution_count": 57,
   "metadata": {},
   "outputs": [],
   "source": [
    "# df_CA_strong = df_CA[df_CA['num_NN_atom'] > 1]"
   ]
  },
  {
   "cell_type": "code",
   "execution_count": 6,
   "metadata": {},
   "outputs": [],
   "source": [
    "# ij=6\n",
    "# df_CA['NN_atom_properties'][ij], df_CA['num_NN_atom'][ij]"
   ]
  },
  {
   "cell_type": "code",
   "execution_count": 332,
   "metadata": {},
   "outputs": [],
   "source": [
    "# df_CA_strong"
   ]
  },
  {
   "cell_type": "code",
   "execution_count": 116,
   "metadata": {},
   "outputs": [
    {
     "data": {
      "text/plain": [
       "dict_keys(['atom_type', 'l2_d', 'van_der_waals_radius', 'electronegativity', 'unshared_electron', 'valency'])"
      ]
     },
     "execution_count": 116,
     "metadata": {},
     "output_type": "execute_result"
    }
   ],
   "source": [
    "# df_CA['NN_atom_properties'][0].keys()"
   ]
  },
  {
   "cell_type": "code",
   "execution_count": 6,
   "metadata": {},
   "outputs": [],
   "source": [
    "#one_hot encode all data to a vector of 1x8, 0 if not present, non-0 if present\n",
    "#dict_keys(['atom_type', 'l2_d', 'van_der_waals_radius', 'electronegativity', 'unshared_electron', 'valency'])\n",
    "def get_df_properties(df_metal):\n",
    "    df_properties = {'pdb':[], 'pdb_id':[], 'NN_atoms':[], 'l2d':[], 'van_der_waals_radius':[], 'electronegativity':[], 'unshared_electron':[], 'valency':[]}\n",
    "    for i in range(len(df_metal)):\n",
    "        NN_atoms = np.zeros(8)\n",
    "        l2d = np.zeros(8)\n",
    "        van_der_waals_radius = np.zeros(8)\n",
    "        electronegativity = np.zeros(8)\n",
    "        unshared_electron = np.zeros(8)\n",
    "        valency = np.zeros(8)\n",
    "        for j in range(df_metal['num_NN_atom'].values[i]):\n",
    "                NN_atoms_val = len(df_metal['NN_atom_properties'].values[i]['atom_type'])\n",
    "                NN_atoms[:NN_atoms_val] = 1\n",
    "                l2d_val = df_metal['NN_atom_properties'].values[i]['l2_d']\n",
    "                van_der_waals_radius_val = df_metal['NN_atom_properties'].values[i]['van_der_waals_radius']\n",
    "                electronegativity_val = df_metal['NN_atom_properties'].values[i]['electronegativity']\n",
    "                unshared_electron_val = df_metal['NN_atom_properties'].values[i]['unshared_electron']\n",
    "                valency_val = df_metal['NN_atom_properties'].values[i]['valency']\n",
    "                for k in range(NN_atoms_val):\n",
    "                    l2d[k] = l2d_val[k]\n",
    "                    van_der_waals_radius[k] = van_der_waals_radius_val[k]\n",
    "                    electronegativity[k] = electronegativity_val[k]\n",
    "                    unshared_electron[k] = unshared_electron_val[k]\n",
    "                    valency[k] = valency_val[k]\n",
    "        df_properties['NN_atoms'].append(NN_atoms)\n",
    "        df_properties['l2d'].append(l2d)\n",
    "        df_properties['van_der_waals_radius'].append(van_der_waals_radius)\n",
    "        df_properties['electronegativity'].append(electronegativity)\n",
    "        df_properties['unshared_electron'].append(unshared_electron)\n",
    "        df_properties['valency'].append(valency)\n",
    "        df_properties['pdb'].append(df_metal['pdb'].values[i])\n",
    "        df_properties['pdb_id'].append(df_metal['pdb_id'].values[i])\n",
    "    df_properties = pd.DataFrame(df_properties)\n",
    "    return df_properties"
   ]
  },
  {
   "cell_type": "code",
   "execution_count": 7,
   "metadata": {},
   "outputs": [],
   "source": [
    "# X_data = df_properties[['NN_atoms', 'l2d', 'van_der_waals_radius', 'electronegativity', 'unshared_electron', 'valency']]\n",
    "# y_data = np.ones(np.shape(X_data)) # one class positive data\n",
    "# len(X_data['van_der_waals_radius'])"
   ]
  },
  {
   "cell_type": "code",
   "execution_count": 7,
   "metadata": {},
   "outputs": [],
   "source": [
    "def get_X_data(df_properties):\n",
    "    X_data = df_properties[['NN_atoms', 'l2d', 'van_der_waals_radius', 'electronegativity', 'unshared_electron', 'valency']]\n",
    "    y_data = np.ones(np.shape(X_data)) # one class positive data\n",
    "    X_data_NN_atoms = X_data['NN_atoms'].values\n",
    "    X_data_NN_atoms = np.concatenate(X_data_NN_atoms, axis=0)\n",
    "    X_data_NN_atoms= np.reshape(X_data_NN_atoms, (len(X_data['NN_atoms']), 8))\n",
    "    X_data_NN_atoms_corrupt = X_data_NN_atoms.copy()\n",
    "    X_data_NN_atoms_corrupt = X_data_NN_atoms_corrupt - np.mean(X_data_NN_atoms,axis=0)*3*np.std(X_data_NN_atoms,axis=0)\n",
    "    X_data_NN_atoms_corrupt = X_data_NN_atoms_corrupt.astype(int)\n",
    "    X_data_NN_atoms_corrupt[X_data_NN_atoms_corrupt < 0] = 0\n",
    "\n",
    "    X_data_l2d = X_data['l2d'].values\n",
    "    X_data_l2d = np.concatenate(X_data_l2d, axis=0)\n",
    "    X_data_l2d= np.reshape(X_data_l2d, (len(X_data['l2d']), 8))\n",
    "    X_data_l2d_corrupt = X_data_l2d.copy()\n",
    "    X_data_l2d_corrupt = X_data_l2d_corrupt + np.mean(X_data_l2d,axis=0)*2*np.std(X_data_l2d,axis=0)\n",
    "\n",
    "    X_data_van_der_waals_radius = X_data['van_der_waals_radius'].values\n",
    "    X_data_van_der_waals_radius = np.concatenate(X_data_van_der_waals_radius, axis=0)\n",
    "    X_data_van_der_waals_radius= np.reshape(X_data_van_der_waals_radius, (len(X_data['van_der_waals_radius']), 8))\n",
    "    X_data_van_der_waals_radius_corrupt = X_data_van_der_waals_radius.copy()\n",
    "    X_data_van_der_waals_radius_corrupt = X_data_van_der_waals_radius_corrupt + np.std(X_data_van_der_waals_radius,axis=0)*2*(-1)*np.random.randint(-1,1)\n",
    "\n",
    "    X_data_electronegativity = X_data['electronegativity'].values\n",
    "    X_data_electronegativity = np.concatenate(X_data_electronegativity, axis=0)\n",
    "    X_data_electronegativity= np.reshape(X_data_electronegativity, (len(X_data['electronegativity']), 8))\n",
    "    X_data_electronegativity_corrupt = X_data_electronegativity.copy()\n",
    "    X_data_electronegativity_corrupt = X_data_electronegativity_corrupt + np.std(X_data_electronegativity,axis=0)*2*(-1)**np.random.randint(-1,1)\n",
    "\n",
    "    X_data_unshared_electron = X_data['unshared_electron'].values\n",
    "    X_data_unshared_electron = np.concatenate(X_data_unshared_electron, axis=0)\n",
    "    X_data_unshared_electron= np.reshape(X_data_unshared_electron, (len(X_data['unshared_electron']), 8))\n",
    "    X_data_unshared_electron_corrupt = X_data_unshared_electron.copy()\n",
    "    X_data_unshared_electron_corrupt = X_data_unshared_electron_corrupt + np.std(X_data_unshared_electron,axis=0)*2*(-1)**np.random.randint(-1,1)\n",
    "\n",
    "    X_data_valency = X_data['valency'].values\n",
    "    X_data_valency = np.concatenate(X_data_valency, axis=0)\n",
    "    X_data_valency= np.reshape(X_data_valency, (len(X_data['valency']), 8))\n",
    "    X_data_valency_corrupt = X_data_valency.copy()\n",
    "    X_data_valency_corrupt = X_data_valency_corrupt + np.std(X_data_valency,axis=0)*2*(-1)**np.random.randint(-1,1)\n",
    "\n",
    "\n",
    "    X_data = np.concatenate((X_data_NN_atoms, X_data_l2d, X_data_van_der_waals_radius, X_data_electronegativity, X_data_unshared_electron, X_data_valency), axis=1)\n",
    "    y_data = np.ones(np.shape(X_data)[0]) # one class positive data\n",
    "    X_data_corrupt = np.concatenate((X_data_NN_atoms_corrupt, X_data_l2d_corrupt, X_data_van_der_waals_radius_corrupt, X_data_electronegativity_corrupt, X_data_unshared_electron_corrupt, X_data_valency_corrupt), axis=1)\n",
    "    y_data_corrupt = -1*np.ones(np.shape(X_data_corrupt)[0]) # one class pseudo-negative data\n",
    "    #randomly take two-third of corrupt data, dont want to overwhelm the model with too much pseudo-negative data\n",
    "    X_data_corrupt = X_data_corrupt[np.random.choice(X_data_corrupt.shape[0], int(X_data_corrupt.shape[0]*2/3), replace=False), :]\n",
    "    y_data_corrupt = -1*np.ones(np.shape(X_data_corrupt)[0]) # one class pseudo-negative data\n",
    "\n",
    "    X_data = np.concatenate((X_data, X_data_corrupt), axis=0)\n",
    "    y_data = np.concatenate((y_data, y_data_corrupt), axis=0)\n",
    "    return X_data, y_data"
   ]
  },
  {
   "cell_type": "code",
   "execution_count": 42,
   "metadata": {},
   "outputs": [],
   "source": [
    "# X_data_NN_atoms_corrupt\n",
    "# y_data_corrupt\n",
    "# y_data"
   ]
  },
  {
   "cell_type": "code",
   "execution_count": 10,
   "metadata": {},
   "outputs": [],
   "source": [
    "# X_data_corrupt = X_data + np.mean(X_data,axis=0)*3*np.std(X_data,axis=0)#*np.random.randn(np.shape(X_data_corrupt)[0], np.shape(X_data_corrupt)[1])\n",
    "# y_data_corrupt = np.zeros(np.shape(X_data_corrupt)[0]) # one class negative data"
   ]
  },
  {
   "cell_type": "code",
   "execution_count": 22,
   "metadata": {},
   "outputs": [],
   "source": [
    "# X_data_all = np.concatenate((X_data, X_data_corrupt), axis=0)\n",
    "# y_data_all = np.concatenate((y_data, y_data_corrupt), axis=0)"
   ]
  },
  {
   "cell_type": "code",
   "execution_count": 271,
   "metadata": {},
   "outputs": [],
   "source": [
    "# ### corupt X_data to generate psuedo negative data\n",
    "# X_data_corrupt = X_data.copy()\n",
    "\n",
    "# #X_data_corrupt['NN_atoms'] = X_data_corrupt['NN_atoms'] - np.tile(np.mean(X_data_corrupt['NN_atoms']), (len(X_data_corrupt['NN_atoms']), 1))\n",
    "# #convert X_data_corrupt['NN_atoms'] to int, and replace negative values as 0\n",
    "# #X_data_corrupt['NN_atoms'] = X_data_corrupt['NN_atoms'].astype(int)\n",
    "# #X_data_corrupt['NN_atoms'][X_data_corrupt['NN_atoms'] < 0] = 0\n",
    "\n",
    "# # X_data_corrupt['l2d'] = X_data_corrupt['l2d'] + np.mean(X_data_corrupt['l2d'])*2*np.std(X_data_corrupt['l2d'])*np.random.randn(len(X_data_corrupt['l2d']))\n",
    "# # X_data_corrupt['van_der_waals_radius'] = X_data_corrupt['van_der_waals_radius'] + np.mean(X_data_corrupt['van_der_waals_radius'])*2*np.std(X_data_corrupt['van_der_waals_radius'])*np.random.randn(len(X_data_corrupt['van_der_waals_radius']))\n",
    "# # X_data_corrupt['electronegativity'] = X_data_corrupt['electronegativity'] - np.mean(X_data_corrupt['electronegativity'])\n",
    "# # X_data_corrupt['electronegativity'][X_data_corrupt['electronegativity'] < 0] = 0\n",
    "\n",
    "# # X_data_corrupt['unshared_electron'] = X_data_corrupt['unshared_electron'] - np.mean(X_data_corrupt['unshared_electron'])\n",
    "# # X_data_corrupt['unshared_electron'][X_data_corrupt['unshared_electron'] < 0] = 0\n"
   ]
  },
  {
   "cell_type": "code",
   "execution_count": 273,
   "metadata": {},
   "outputs": [],
   "source": [
    "# X_data_all = np.concatenate((X_data, X_data_corrupt), axis=0)\n",
    "# y_data_all = np.concatenate((y_data, y_data_corrupt), axis=0)"
   ]
  },
  {
   "cell_type": "code",
   "execution_count": 8,
   "metadata": {},
   "outputs": [],
   "source": [
    "#pr_auc = auc(recall, precision)\n",
    "def plot_ROC(fpr, tpr, roc, metal,show=1,outdir='weight/'):\n",
    "    # Plot ROC curve\n",
    "    plt.figure(figsize=(8, 6))\n",
    "    plt.plot(fpr, tpr, color='blue', lw=2, label='ROC curve (AUC = {:.2f})'.format(roc_auc))\n",
    "    plt.plot([0, 1], [0, 1], color='gray', linestyle='--')\n",
    "    plt.xlim([0.0, 1.0])\n",
    "    plt.ylim([0.0, 1.05])\n",
    "    plt.xlabel('False Positive Rate')\n",
    "    plt.ylabel('True Positive Rate')\n",
    "    plt.title(f'(ROC) Curve for {metal} binding site prediction')\n",
    "    plt.legend(loc='lower right')\n",
    "    plt.grid(True)\n",
    "    plt.savefig(f'{outdir}/ROC_{metal}.png')\n",
    "    if show:\n",
    "        plt.show()\n",
    "    #plt.show()"
   ]
  },
  {
   "cell_type": "code",
   "execution_count": 12,
   "metadata": {},
   "outputs": [
    {
     "data": {
      "image/png": "[encoded data removed]",
      "text/plain": [
       "<Figure size 800x600 with 1 Axes>"
      ]
     },
     "metadata": {},
     "output_type": "display_data"
    }
   ],
   "source": [
    "kernel = 'rbf'  # Kernel function  'rbf', 'linear', 'poly', 'sigmoid' rbf is best fitted for complex boundary\n",
    "metals = ['K']#,'NA']\n",
    "for metal in metals:\n",
    "    gamma = 'scale'\n",
    "    df_metal = df[df['metal']==metal]\n",
    "    df_properties = get_df_properties(df_metal)\n",
    "    for nu in np.linspace(0.1,0.0005,10):\n",
    "        X_data_all, y_data_all = get_X_data(df_properties)\n",
    "        X_train, X_test, y_train, y_test = train_test_split(X_data_all, y_data_all, test_size=0.2)#, random_state=42)\n",
    "        # scaler = StandardScaler()\n",
    "        # X_train_scaled = scaler.fit_transform(X_train)\n",
    "        # X_test_scaled = scaler.transform(X_test)\n",
    "        X_train_scaled = X_train\n",
    "        X_test_scaled = X_test\n",
    "        model = svm.OneClassSVM(nu=nu, kernel=kernel, gamma=gamma, verbose=0, tol=1e-4, cache_size=500)\n",
    "        model.fit(X_train_scaled)\n",
    "        y_pred_train = model.predict(X_train_scaled)\n",
    "        y_pred_test = model.predict(X_test_scaled)\n",
    "        model.fit(X_train_scaled)\n",
    "        train_score = model.score_samples(X_train_scaled)\n",
    "        test_score = model.score_samples(X_test_scaled)\n",
    "        test_scores = model.score_samples(X_test_scaled)\n",
    "\n",
    "        # Calculate ROC curve\n",
    "        fpr, tpr, _ = roc_curve(y_test, -test_scores)  # Using negative scores as One-Class SVM's predict function outputs negative scores\n",
    "\n",
    "        # Calculate Precision-Recall curve\n",
    "\n",
    "        precision, recall, _ = precision_recall_curve(y_test, -test_scores)\n",
    "\n",
    "        # Calculate Area Under ROC curve (AUC-ROC)\n",
    "        roc_auc = auc(fpr, tpr)\n",
    "\n",
    "        # Calculate Area Under Precision-Recall curve (AUC-PR)\n",
    "        #pr_auc = auc(recall, precision)\n",
    "        if roc_auc >= 0.7:\n",
    "            joblib.dump(model, f'weight3/one_class_svm_{metal}_nu_{round(nu,4)}_roc_{round(roc_auc,3)}.pkl')#.format(metal, nu, roc_auc))\n",
    "            plot_ROC(fpr, tpr, roc_auc, metal,outdir='weight3/')\n",
    "            break\n",
    "        # else:\n",
    "        #     continue\n",
    "        # break"
   ]
  },
  {
   "cell_type": "code",
   "execution_count": 44,
   "metadata": {},
   "outputs": [],
   "source": [
    "# joblib.dump(model, f'weight/one_class_svm_tip_atom_{metal}.pkl')"
   ]
  },
  {
   "cell_type": "code",
   "execution_count": 57,
   "metadata": {},
   "outputs": [],
   "source": [
    "# train_score = model.score_samples(X_train_scaled)\n",
    "# test_score = model.score_samples(X_test_scaled)\n",
    "\n",
    "# # Predict scores on the test set\n",
    "# test_scores = model.score_samples(X_test_scaled)\n",
    "\n",
    "# # Calculate ROC curve\n",
    "# fpr, tpr, _ = roc_curve(y_test, -test_scores)  # Using negative scores as One-Class SVM's predict function outputs negative scores\n",
    "\n",
    "# # Calculate Precision-Recall curve\n",
    "\n",
    "# precision, recall, _ = precision_recall_curve(y_test, -test_scores)\n",
    "\n",
    "# # Calculate Area Under ROC curve (AUC-ROC)\n",
    "# roc_auc = auc(fpr, tpr)\n",
    "\n",
    "# # Calculate Area Under Precision-Recall curve (AUC-PR)\n",
    "# pr_auc = auc(recall, precision)\n",
    "\n",
    "# # Plot ROC curve\n",
    "# plt.figure(figsize=(8, 6))\n",
    "# plt.plot(fpr, tpr, color='blue', lw=2, label='ROC curve (AUC = {:.2f})'.format(roc_auc))\n",
    "# plt.plot([0, 1], [0, 1], color='gray', linestyle='--')\n",
    "# plt.xlim([0.0, 1.0])\n",
    "# plt.ylim([0.0, 1.05])\n",
    "# plt.xlabel('False Positive Rate')\n",
    "# plt.ylabel('True Positive Rate')\n",
    "# plt.title('Receiver Operating Characteristic (ROC) Curve')\n",
    "# plt.legend(loc='lower right')\n",
    "# plt.grid(True)\n",
    "# plt.show()"
   ]
  },
  {
   "cell_type": "code",
   "execution_count": 23,
   "metadata": {},
   "outputs": [],
   "source": [
    "### test\n",
    "model_CA = joblib.load('weight3/one_class_svm_CA_nu_0.1_roc_0.72.pkl')\n"
   ]
  },
  {
   "cell_type": "code",
   "execution_count": 42,
   "metadata": {},
   "outputs": [
    {
     "data": {
      "text/plain": [
       "array([1])"
      ]
     },
     "execution_count": 42,
     "metadata": {},
     "output_type": "execute_result"
    }
   ],
   "source": [
    "# scaler = StandardScaler()\n",
    "# X_train_scaled = scaler.fit_transform(X_train)\n",
    "model_CA.predict(tmp)"
   ]
  },
  {
   "cell_type": "code",
   "execution_count": 39,
   "metadata": {},
   "outputs": [],
   "source": [
    "tmp = np.reshape(X_data_all[1], (1,48))"
   ]
  },
  {
   "cell_type": "code",
   "execution_count": 40,
   "metadata": {},
   "outputs": [
    {
     "data": {
      "text/plain": [
       "array([[  1.        ,   1.        ,   1.        ,   0.        ,\n",
       "          0.        ,   0.        ,   0.        ,   0.        ,\n",
       "          2.59703469,   2.71086121,   2.62000656,   0.        ,\n",
       "          0.        ,   0.        ,   0.        ,   0.        ,\n",
       "        152.        , 152.        , 152.        ,   0.        ,\n",
       "          0.        ,   0.        ,   0.        ,   0.        ,\n",
       "          3.44      ,   3.44      ,   3.44      ,   0.        ,\n",
       "          0.        ,   0.        ,   0.        ,   0.        ,\n",
       "          4.        ,   4.        ,   4.        ,   0.        ,\n",
       "          0.        ,   0.        ,   0.        ,   0.        ,\n",
       "          6.        ,   6.        ,   6.        ,   0.        ,\n",
       "          0.        ,   0.        ,   0.        ,   0.        ]])"
      ]
     },
     "execution_count": 40,
     "metadata": {},
     "output_type": "execute_result"
    }
   ],
   "source": [
    "tmp"
   ]
  },
  {
   "cell_type": "code",
   "execution_count": 22,
   "metadata": {},
   "outputs": [
    {
     "data": {
      "text/plain": [
       "array([  1.        ,   1.        ,   1.        ,   0.        ,\n",
       "         0.        ,   0.        ,   0.        ,   0.        ,\n",
       "         2.59703469,   2.71086121,   2.62000656,   0.        ,\n",
       "         0.        ,   0.        ,   0.        ,   0.        ,\n",
       "       152.        , 152.        , 152.        ,   0.        ,\n",
       "         0.        ,   0.        ,   0.        ,   0.        ,\n",
       "         3.44      ,   3.44      ,   3.44      ,   0.        ,\n",
       "         0.        ,   0.        ,   0.        ,   0.        ,\n",
       "         4.        ,   4.        ,   4.        ,   0.        ,\n",
       "         0.        ,   0.        ,   0.        ,   0.        ,\n",
       "         6.        ,   6.        ,   6.        ,   0.        ,\n",
       "         0.        ,   0.        ,   0.        ,   0.        ])"
      ]
     },
     "execution_count": 22,
     "metadata": {},
     "output_type": "execute_result"
    }
   ],
   "source": [
    "X_data_all[1]#, y_data_all[1]"
   ]
  },
  {
   "cell_type": "code",
   "execution_count": 52,
   "metadata": {},
   "outputs": [],
   "source": [
    "metal = 'CA'\n",
    "df_metal = df[df['metal']==metal]\n",
    "df_properties = get_df_properties(df_metal)\n",
    "X_data_all, y_data_all = get_X_data(df_properties)"
   ]
  },
  {
   "cell_type": "code",
   "execution_count": null,
   "metadata": {},
   "outputs": [],
   "source": [
    "X_data_all"
   ]
  },
  {
   "cell_type": "code",
   "execution_count": 296,
   "metadata": {},
   "outputs": [],
   "source": [
    "#test_score"
   ]
  },
  {
   "cell_type": "code",
   "execution_count": 329,
   "metadata": {},
   "outputs": [
    {
     "data": {
      "text/plain": [
       "['weight/one_class_svm_tip_atom_CA.pkl']"
      ]
     },
     "execution_count": 329,
     "metadata": {},
     "output_type": "execute_result"
    }
   ],
   "source": [
    "# joblib.dump(model, 'weight/one_class_svm_tip_atom_CA.pkl')"
   ]
  },
  {
   "cell_type": "code",
   "execution_count": 176,
   "metadata": {},
   "outputs": [
    {
     "data": {
      "text/plain": [
       "(433, 8)"
      ]
     },
     "execution_count": 176,
     "metadata": {},
     "output_type": "execute_result"
    }
   ],
   "source": [
    "# np.ones(np.shape(X_data_corrupt['NN_atoms']))\n",
    "# np.mean(X_data_corrupt['NN_atoms'])\n",
    "# np.tile(np.mean(X_data_corrupt['NN_atoms']), (len(X_data_corrupt['NN_atoms']), 1))"
   ]
  },
  {
   "cell_type": "code",
   "execution_count": 208,
   "metadata": {},
   "outputs": [],
   "source": [
    "# tmp = np.asarray(X_data_corrupt['l2d'])\n",
    "# tmp_matrix = np.concatenate(tmp, axis=0)\n",
    "# tmp_matrix= np.reshape(tmp_matrix, (len(X_data_corrupt['NN_atoms']), 8))\n",
    "# #3-np.tile(np.mean(X_data_corrupt['NN_atoms']), (len(X_data_corrupt['NN_atoms']), 1))"
   ]
  },
  {
   "cell_type": "code",
   "execution_count": 222,
   "metadata": {},
   "outputs": [],
   "source": [
    "# tmp_matrix = np.concatenate(X_data['NN_atoms'], axis=0)"
   ]
  },
  {
   "cell_type": "code",
   "execution_count": null,
   "metadata": {},
   "outputs": [],
   "source": []
  }
 ],
 "metadata": {
  "kernelspec": {
   "display_name": "SE3nv_dimaio",
   "language": "python",
   "name": "python3"
  },
  "language_info": {
   "codemirror_mode": {
    "name": "ipython",
    "version": 3
   },
   "file_extension": ".py",
   "mimetype": "text/x-python",
   "name": "python",
   "nbconvert_exporter": "python",
   "pygments_lexer": "ipython3",
   "version": "3.10.11"
  }
 },
 "nbformat": 4,
 "nbformat_minor": 2
}
