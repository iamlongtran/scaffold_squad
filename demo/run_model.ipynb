{
 "cells": [
  {
   "cell_type": "code",
   "execution_count": 1,
   "metadata": {},
   "outputs": [],
   "source": [
    "import os,sys,glob\n",
    "import numpy as np\n",
    "import pandas as pd\n",
    "import matplotlib.pyplot as plt\n",
    "script_dir = os.path.abspath('') #only in jupyter demo, different in .py\n",
    "parent_dir = os.path.join(os.path.dirname(script_dir), '')\n",
    "sys.path.append(parent_dir) #only in jupyter demo, different in .py\n",
    "from utils import util\n",
    "from tqdm import tqdm\n",
    "import joblib\n"
   ]
  },
  {
   "cell_type": "code",
   "execution_count": 47,
   "metadata": {},
   "outputs": [],
   "source": [
    "### say we want to predict binding likelihood of CA\n",
    "model_CA = joblib.load(f'{parent_dir}/weight3/one_class_svm_CA_nu_0.1_roc_0.72.pkl')\n",
    "model_CA = joblib.load(f'{parent_dir}/weight4/svm_svc_CA_roc_0.81.pkl')\n",
    "model_ZN  = joblib.load(f'{parent_dir}/weight3/one_class_svm_ZN_nu_0.0447_roc_0.794.pkl')\n",
    "model_ZN = joblib.load(f'{parent_dir}/weight4/svm_svc_ZN_roc_0.873.pkl')"
   ]
  },
  {
   "cell_type": "code",
   "execution_count": 48,
   "metadata": {},
   "outputs": [],
   "source": [
    "test_pdb = '/home/lhtran/class/scaffold_squad/test_cases/test_CA_1.pdb'\n",
    "pdb_data = util.preprocess_tip_atom(test_pdb, metal='CA',metal_id=9)#, metal_id=15859)\n",
    "pdb_data = pdb_data.reshape(1, -1)"
   ]
  },
  {
   "cell_type": "code",
   "execution_count": 49,
   "metadata": {},
   "outputs": [
    {
     "data": {
      "text/plain": [
       "array([1.])"
      ]
     },
     "execution_count": 49,
     "metadata": {},
     "output_type": "execute_result"
    }
   ],
   "source": [
    "model_CA.predict(pdb_data)"
   ]
  },
  {
   "cell_type": "code",
   "execution_count": 50,
   "metadata": {},
   "outputs": [],
   "source": [
    "# tmp = np.array([  1.        ,   1.        ,   1.        ,   1.        ,\n",
    "#          0.        ,   0.        ,   0.        ,   0.        ,\n",
    "#          2.35129929,   2.40874028,   2.59298944,   2.70946288,\n",
    "#          0.        ,   0.        ,   0.        ,   0.        ,\n",
    "#        152.        , 152.        , 152.        , 152.        ,\n",
    "#          0.        ,   0.        ,   0.        ,   0.        ,\n",
    "#          3.44      ,   3.44      ,   3.44      ,   3.44      ,\n",
    "#          0.        ,   0.        ,   0.        ,   0.        ,\n",
    "#          4.        ,   4.        ,   4.        ,   4.        ,\n",
    "#          0.        ,   0.        ,   0.        ,   0.        ,\n",
    "#          6.        ,   6.        ,   6.        ,   6.        ,\n",
    "#          0.        ,   0.        ,   0.        ,   0.        ])"
   ]
  },
  {
   "cell_type": "code",
   "execution_count": 41,
   "metadata": {},
   "outputs": [],
   "source": [
    "tmp = tmp.reshape(1, -1)"
   ]
  },
  {
   "cell_type": "code",
   "execution_count": 42,
   "metadata": {},
   "outputs": [],
   "source": [
    "test_pdb = '/home/lhtran/class/scaffold_squad/test_cases/test_ZN_1.pdb'\n",
    "pdb_data = util.preprocess_tip_atom(test_pdb, metal='ZN',metal_id=1)#, metal_id=15859)\n",
    "pdb_data = np.reshape(pdb_data, (1, -1))"
   ]
  },
  {
   "cell_type": "code",
   "execution_count": 43,
   "metadata": {},
   "outputs": [
    {
     "data": {
      "text/plain": [
       "array([-1])"
      ]
     },
     "execution_count": 43,
     "metadata": {},
     "output_type": "execute_result"
    }
   ],
   "source": [
    "model_ZN.predict(pdb_data)"
   ]
  },
  {
   "cell_type": "code",
   "execution_count": 39,
   "metadata": {},
   "outputs": [
    {
     "data": {
      "text/plain": [
       "array([[  1.        ,   1.        ,   1.        ,   1.        ,\n",
       "          1.        ,   1.        ,   0.        ,   0.        ,\n",
       "          3.2110846 ,   2.85012937,   2.90439034,   2.849967  ,\n",
       "          3.21100187,   2.90426397,   0.        ,   0.        ,\n",
       "        170.        , 152.        , 152.        , 152.        ,\n",
       "        170.        , 152.        ,   0.        ,   0.        ,\n",
       "          2.55      ,   3.44      ,   3.44      ,   3.44      ,\n",
       "          2.55      ,   3.44      ,   0.        ,   0.        ,\n",
       "          0.        ,   4.        ,   4.        ,   4.        ,\n",
       "          0.        ,   4.        ,   0.        ,   0.        ,\n",
       "          4.        ,   6.        ,   6.        ,   6.        ,\n",
       "          4.        ,   6.        ,   0.        ,   0.        ]])"
      ]
     },
     "execution_count": 39,
     "metadata": {},
     "output_type": "execute_result"
    }
   ],
   "source": [
    "pdb_data"
   ]
  }
 ],
 "metadata": {
  "kernelspec": {
   "display_name": "SE3nv_dimaio",
   "language": "python",
   "name": "python3"
  },
  "language_info": {
   "codemirror_mode": {
    "name": "ipython",
    "version": 3
   },
   "file_extension": ".py",
   "mimetype": "text/x-python",
   "name": "python",
   "nbconvert_exporter": "python",
   "pygments_lexer": "ipython3",
   "version": "3.10.11"
  }
 },
 "nbformat": 4,
 "nbformat_minor": 2
}
