{
 "cells": [
  {
   "cell_type": "code",
   "execution_count": 1,
   "metadata": {},
   "outputs": [],
   "source": [
    "import os,sys,glob\n",
    "import numpy as np\n",
    "import pandas as pd\n",
    "import matplotlib.pyplot as plt\n",
    "script_dir = os.path.abspath('') #only in jupyter demo, different in .py\n",
    "parent_dir = os.path.join(os.path.dirname(script_dir), '')\n",
    "sys.path.append(parent_dir) #only in jupyter demo, different in .py\n",
    "from utils import util\n",
    "from tqdm import tqdm\n",
    "import joblib\n"
   ]
  },
  {
   "cell_type": "code",
   "execution_count": 2,
   "metadata": {},
   "outputs": [],
   "source": [
    "### say we want to predict binding likelihood of CA\n",
    "#model_CA = joblib.load(f'{parent_dir}/weight3/one_class_svm_CA_nu_0.1_roc_0.72.pkl')\n",
    "model_CA = joblib.load(f'{parent_dir}/weight4/svm_svc_CA_roc_0.81.pkl')\n",
    "model_ZN = jobl`ib.load(f'{parent_dir}/weight4/svm_svc_ZN_roc_0.873.pkl')\n",
    "model_MG = joblib.load(f'{parent_dir}/weight4/svm_svc_MG_roc_0.962.pkl')\n",
    "model_K = joblib.load(f'{parent_dir}/weight4/svm_svc_K_roc_0.929.pkl')\n",
    "model_NA = joblib.load(f'{parent_dir}/weight4/svm_svc_NA_roc_0.871.pkl')\n"
   ]
  },
  {
   "cell_type": "code",
   "execution_count": 52,
   "metadata": {},
   "outputs": [],
   "source": [
    "test_pdb = '/home/lhtran/class/scaffold_squad/test_cases/test_CA_1.pdb'\n",
    "pdb_data = util.preprocess_tip_atom(test_pdb, metal='CA',metal_id=9)#, metal_id=15859)\n",
    "pdb_data = pdb_data.reshape(1, -1)"
   ]
  },
  {
   "cell_type": "code",
   "execution_count": 53,
   "metadata": {},
   "outputs": [
    {
     "data": {
      "text/plain": [
       "array([1.])"
      ]
     },
     "execution_count": 53,
     "metadata": {},
     "output_type": "execute_result"
    }
   ],
   "source": [
    "model_CA.predict(pdb_data)"
   ]
  },
  {
   "cell_type": "code",
   "execution_count": 16,
   "metadata": {},
   "outputs": [],
   "source": [
    "test_pdb = '/home/lhtran/class/scaffold_squad/test_cases/test_ZN_1.pdb'\n",
    "test_pdb = '/home/lhtran/class/scaffold_squad/test_cases/test_ZN_2.pdb'\n",
    "pdb_data = util.preprocess_tip_atom(test_pdb, metal='ZN',metal_id=1)#, metal_id=15859)\n",
    "pdb_data = np.reshape(pdb_data, (1, -1))"
   ]
  },
  {
   "cell_type": "code",
   "execution_count": 21,
   "metadata": {},
   "outputs": [
    {
     "data": {
      "text/plain": [
       "(array([1.]), array([-1.]))"
      ]
     },
     "execution_count": 21,
     "metadata": {},
     "output_type": "execute_result"
    }
   ],
   "source": [
    "model_ZN.predict(pdb_data), model_NA.predict(pdb_data)"
   ]
  }
 ],
 "metadata": {
  "kernelspec": {
   "display_name": "SE3nv_dimaio",
   "language": "python",
   "name": "python3"
  },
  "language_info": {
   "codemirror_mode": {
    "name": "ipython",
    "version": 3
   },
   "file_extension": ".py",
   "mimetype": "text/x-python",
   "name": "python",
   "nbconvert_exporter": "python",
   "pygments_lexer": "ipython3",
   "version": "3.10.11"
  }
 },
 "nbformat": 4,
 "nbformat_minor": 2
}
