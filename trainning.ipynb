{
 "cells": [
  {
   "cell_type": "code",
   "execution_count": null,
   "metadata": {},
   "outputs": [],
   "source": [
    "import os,sys,glob\n",
    "import numpy as np\n",
    "import pandas as pd\n",
    "import matplotlib.pyplot as plt\n",
    "from utils import util\n",
    "from tqdm import tqdm\n",
    "\n",
    "# from utils import parsers\n",
    "# from parsers import num2aa\n",
    "# from parsers import to1letter"
   ]
  }
 ],
 "metadata": {
  "kernelspec": {
   "display_name": "SE3nv_dimaio",
   "language": "python",
   "name": "python3"
  },
  "language_info": {
   "name": "python",
   "version": "3.10.11"
  }
 },
 "nbformat": 4,
 "nbformat_minor": 2
}
