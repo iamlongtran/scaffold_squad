{
 "cells": [
  {
   "cell_type": "code",
   "execution_count": 134,
   "id": "7d78d12d-4e88-4cad-b59a-1dbedd507ed0",
   "metadata": {},
   "outputs": [],
   "source": [
    "import torch\n",
    "import pandas as pd\n",
    "import numpy as np\n",
    "from sklearn.model_selection import train_test_split\n",
    "from sklearn import metrics \n",
    "import json\n",
    "import ast\n",
    "from utils import util\n",
    "import seaborn as sns"
   ]
  },
  {
   "cell_type": "code",
   "execution_count": 130,
   "id": "2f42fd0f-613e-452a-a4ed-11993bdd2abb",
   "metadata": {},
   "outputs": [],
   "source": [
    "df_rotamer_pkl = pd.read_pickle('df_rotamer.pkl')"
   ]
  },
  {
   "cell_type": "code",
   "execution_count": 131,
   "id": "a0c91eb9-6391-482a-935e-39a10e7d74db",
   "metadata": {},
   "outputs": [],
   "source": [
    "df_rotamer_pkl = df_rotamer_pkl.explode(['bound_residue'])\n",
    "df_rotamer_pkl.dropna(inplace=True)\n",
    "#df_rotamer_pkl['encoded_aa']=encoded_residue"
   ]
  },
  {
   "cell_type": "code",
   "execution_count": 132,
   "id": "1e2ec064-24cf-47ac-9dc0-18a078714c59",
   "metadata": {},
   "outputs": [],
   "source": [
    "x = df_rotamer_pkl.drop(columns=[\"pdb\",\"metal\",\"ion\",\"motif_binding_xyz\",\"num_NN_atom\",\"NN_atom_properties\",'paper_bound_residue','pdb_id'])\n",
    "x = pd.get_dummies(x,drop_first=True)\n",
    "y = df_rotamer_pkl[\"metal\"]\n",
    "y = pd.get_dummies(y,drop_first=True)\n",
    "x_train,x_test,y_train,y_test = train_test_split(x,y,test_size=.1)"
   ]
  },
  {
   "cell_type": "code",
   "execution_count": 135,
   "id": "0f323f33-959b-479a-bca0-b38a22f3e591",
   "metadata": {},
   "outputs": [
    {
     "name": "stdout",
     "output_type": "stream",
     "text": [
      "Accuracy: 0.5827814569536424\n"
     ]
    }
   ],
   "source": [
    "from sklearn.tree import DecisionTreeClassifier\n",
    "dtc = DecisionTreeClassifier()\n",
    "dtc.fit(x_train,y_train)\n",
    "y_pred = dtc.predict(x_test)\n",
    "print(\"Accuracy:\", metrics.accuracy_score(y_test,y_pred))"
   ]
  },
  {
   "cell_type": "code",
   "execution_count": 140,
   "id": "541be91d-e153-4675-ad9c-b63a998fb4a1",
   "metadata": {},
   "outputs": [
    {
     "name": "stdout",
     "output_type": "stream",
     "text": [
      "Accuracy: 0.5933774834437087\n"
     ]
    }
   ],
   "source": [
    "from sklearn.ensemble import RandomForestClassifier\n",
    "rf = RandomForestClassifier()\n",
    "rf.fit(x_train,y_train)\n",
    "y_pred = rf.predict(x_test)\n",
    "print(\"Accuracy:\", metrics.accuracy_score(y_test,y_pred))"
   ]
  },
  {
   "cell_type": "code",
   "execution_count": 143,
   "id": "d13737b8-d05a-4d52-82be-7a55de4e9e80",
   "metadata": {},
   "outputs": [
    {
     "name": "stdout",
     "output_type": "stream",
     "text": [
      "Accuracy: 0.6052980132450331\n"
     ]
    }
   ],
   "source": [
    "from sklearn.ensemble import GradientBoostingClassifier\n",
    "gbc = GradientBoostingClassifier()\n",
    "y = df_rotamer_pkl[\"metal\"]\n",
    "x_train,x_test,y_train,y_test = train_test_split(x,y,test_size=.1)\n",
    "gbc.fit(x_train,y_train)\n",
    "y_pred = gbc.predict(x_test)\n",
    "print(\"Accuracy:\", metrics.accuracy_score(y_test,y_pred))"
   ]
  },
  {
   "cell_type": "code",
   "execution_count": null,
   "id": "dad1d257-ab02-4f96-a0cf-c6ebc2897f07",
   "metadata": {},
   "outputs": [],
   "source": []
  },
  {
   "cell_type": "code",
   "execution_count": null,
   "id": "1bb82da8-20c4-4256-ad4e-a4de7b9deb6e",
   "metadata": {},
   "outputs": [],
   "source": []
  },
  {
   "cell_type": "code",
   "execution_count": null,
   "id": "41127bff-0de4-476d-a884-c70eb2ecf958",
   "metadata": {},
   "outputs": [],
   "source": []
  },
  {
   "cell_type": "code",
   "execution_count": null,
   "id": "5e2101ed-a1c6-4e25-af43-d5048e9f7cbd",
   "metadata": {},
   "outputs": [],
   "source": []
  },
  {
   "cell_type": "code",
   "execution_count": null,
   "id": "23820d26-b728-4cb5-9f4c-185fbe42e7ef",
   "metadata": {},
   "outputs": [],
   "source": []
  },
  {
   "cell_type": "code",
   "execution_count": null,
   "id": "078f11ef-aa1e-4164-bad3-3350590cec56",
   "metadata": {},
   "outputs": [],
   "source": []
  }
 ],
 "metadata": {
  "kernelspec": {
   "display_name": "Python 3 (ipykernel)",
   "language": "python",
   "name": "python3"
  },
  "language_info": {
   "codemirror_mode": {
    "name": "ipython",
    "version": 3
   },
   "file_extension": ".py",
   "mimetype": "text/x-python",
   "name": "python",
   "nbconvert_exporter": "python",
   "pygments_lexer": "ipython3",
   "version": "3.11.5"
  }
 },
 "nbformat": 4,
 "nbformat_minor": 5
}
