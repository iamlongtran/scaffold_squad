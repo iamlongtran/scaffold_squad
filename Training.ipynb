{
 "cells": [
  {
   "cell_type": "code",
   "execution_count": 38,
   "id": "7d78d12d-4e88-4cad-b59a-1dbedd507ed0",
   "metadata": {},
   "outputs": [],
   "source": [
    "import torch\n",
    "import pandas as pd\n",
    "import numpy as np\n",
    "from sklearn.model_selection import train_test_split\n",
    "import json\n",
    "import ast"
   ]
  },
  {
   "cell_type": "code",
   "execution_count": 137,
   "id": "541be91d-e153-4675-ad9c-b63a998fb4a1",
   "metadata": {},
   "outputs": [
    {
     "name": "stderr",
     "output_type": "stream",
     "text": [
      "/tmp/ipykernel_70075/1146157281.py:3: FutureWarning: Series.__getitem__ treating keys as positions is deprecated. In a future version, integer keys will always be treated as labels (consistent with DataFrame behavior). To access a value by position, use `ser.iloc[pos]`\n",
      "  resi = df_rotamers[\"bound_residue\"][0]\n"
     ]
    },
    {
     "data": {
      "text/plain": [
       "2239"
      ]
     },
     "execution_count": 137,
     "metadata": {},
     "output_type": "execute_result"
    }
   ],
   "source": [
    "df_rotamers=pd.read_csv(\"df_rotamer.csv\")\n",
    "df_rotamers.set_index('pdb_id',inplace=True)\n",
    "resi = df_rotamers[\"bound_residue\"][0]\n",
    "r = ast.literal_eval(resi)\n",
    "len(df_rotamers)\n",
    "df_rotamers.head()\n",
    "for i in range(len(df_rotamers)):\n",
    "    np.array(zeros\n",
    "    "
   ]
  },
  {
   "cell_type": "code",
   "execution_count": null,
   "id": "a0c91eb9-6391-482a-935e-39a10e7d74db",
   "metadata": {},
   "outputs": [],
   "source": []
  },
  {
   "cell_type": "code",
   "execution_count": 59,
   "id": "dad1d257-ab02-4f96-a0cf-c6ebc2897f07",
   "metadata": {},
   "outputs": [
    {
     "ename": "ValueError",
     "evalue": "malformed node or string on line 1: <ast.Call object at 0x7f55f8a975b0>",
     "output_type": "error",
     "traceback": [
      "\u001b[0;31m---------------------------------------------------------------------------\u001b[0m",
      "\u001b[0;31mValueError\u001b[0m                                Traceback (most recent call last)",
      "Cell \u001b[0;32mIn[59], line 8\u001b[0m\n\u001b[1;32m      6\u001b[0m motif_binding_array \u001b[38;5;241m=\u001b[39m x[\u001b[38;5;124m\"\u001b[39m\u001b[38;5;124mmotif_binding_xyz\u001b[39m\u001b[38;5;124m\"\u001b[39m]\n\u001b[1;32m      7\u001b[0m motif_binding_array[\u001b[38;5;241m0\u001b[39m]\n\u001b[0;32m----> 8\u001b[0m dic \u001b[38;5;241m=\u001b[39m ast\u001b[38;5;241m.\u001b[39mliteral_eval(motif_binding_array[\u001b[38;5;241m0\u001b[39m])\n",
      "File \u001b[0;32m~/~miniconda3/lib/python3.11/ast.py:110\u001b[0m, in \u001b[0;36mliteral_eval\u001b[0;34m(node_or_string)\u001b[0m\n\u001b[1;32m    108\u001b[0m                 \u001b[38;5;28;01mreturn\u001b[39;00m left \u001b[38;5;241m-\u001b[39m right\n\u001b[1;32m    109\u001b[0m     \u001b[38;5;28;01mreturn\u001b[39;00m _convert_signed_num(node)\n\u001b[0;32m--> 110\u001b[0m \u001b[38;5;28;01mreturn\u001b[39;00m _convert(node_or_string)\n",
      "File \u001b[0;32m~/~miniconda3/lib/python3.11/ast.py:99\u001b[0m, in \u001b[0;36mliteral_eval.<locals>._convert\u001b[0;34m(node)\u001b[0m\n\u001b[1;32m     97\u001b[0m     \u001b[38;5;28;01mif\u001b[39;00m \u001b[38;5;28mlen\u001b[39m(node\u001b[38;5;241m.\u001b[39mkeys) \u001b[38;5;241m!=\u001b[39m \u001b[38;5;28mlen\u001b[39m(node\u001b[38;5;241m.\u001b[39mvalues):\n\u001b[1;32m     98\u001b[0m         _raise_malformed_node(node)\n\u001b[0;32m---> 99\u001b[0m     \u001b[38;5;28;01mreturn\u001b[39;00m \u001b[38;5;28mdict\u001b[39m(\u001b[38;5;28mzip\u001b[39m(\u001b[38;5;28mmap\u001b[39m(_convert, node\u001b[38;5;241m.\u001b[39mkeys),\n\u001b[1;32m    100\u001b[0m                     \u001b[38;5;28mmap\u001b[39m(_convert, node\u001b[38;5;241m.\u001b[39mvalues)))\n\u001b[1;32m    101\u001b[0m \u001b[38;5;28;01melif\u001b[39;00m \u001b[38;5;28misinstance\u001b[39m(node, BinOp) \u001b[38;5;129;01mand\u001b[39;00m \u001b[38;5;28misinstance\u001b[39m(node\u001b[38;5;241m.\u001b[39mop, (Add, Sub)):\n\u001b[1;32m    102\u001b[0m     left \u001b[38;5;241m=\u001b[39m _convert_signed_num(node\u001b[38;5;241m.\u001b[39mleft)\n",
      "File \u001b[0;32m~/~miniconda3/lib/python3.11/ast.py:109\u001b[0m, in \u001b[0;36mliteral_eval.<locals>._convert\u001b[0;34m(node)\u001b[0m\n\u001b[1;32m    107\u001b[0m         \u001b[38;5;28;01melse\u001b[39;00m:\n\u001b[1;32m    108\u001b[0m             \u001b[38;5;28;01mreturn\u001b[39;00m left \u001b[38;5;241m-\u001b[39m right\n\u001b[0;32m--> 109\u001b[0m \u001b[38;5;28;01mreturn\u001b[39;00m _convert_signed_num(node)\n",
      "File \u001b[0;32m~/~miniconda3/lib/python3.11/ast.py:83\u001b[0m, in \u001b[0;36mliteral_eval.<locals>._convert_signed_num\u001b[0;34m(node)\u001b[0m\n\u001b[1;32m     81\u001b[0m     \u001b[38;5;28;01melse\u001b[39;00m:\n\u001b[1;32m     82\u001b[0m         \u001b[38;5;28;01mreturn\u001b[39;00m \u001b[38;5;241m-\u001b[39m operand\n\u001b[0;32m---> 83\u001b[0m \u001b[38;5;28;01mreturn\u001b[39;00m _convert_num(node)\n",
      "File \u001b[0;32m~/~miniconda3/lib/python3.11/ast.py:74\u001b[0m, in \u001b[0;36mliteral_eval.<locals>._convert_num\u001b[0;34m(node)\u001b[0m\n\u001b[1;32m     72\u001b[0m \u001b[38;5;28;01mdef\u001b[39;00m \u001b[38;5;21m_convert_num\u001b[39m(node):\n\u001b[1;32m     73\u001b[0m     \u001b[38;5;28;01mif\u001b[39;00m \u001b[38;5;129;01mnot\u001b[39;00m \u001b[38;5;28misinstance\u001b[39m(node, Constant) \u001b[38;5;129;01mor\u001b[39;00m \u001b[38;5;28mtype\u001b[39m(node\u001b[38;5;241m.\u001b[39mvalue) \u001b[38;5;129;01mnot\u001b[39;00m \u001b[38;5;129;01min\u001b[39;00m (\u001b[38;5;28mint\u001b[39m, \u001b[38;5;28mfloat\u001b[39m, \u001b[38;5;28mcomplex\u001b[39m):\n\u001b[0;32m---> 74\u001b[0m         _raise_malformed_node(node)\n\u001b[1;32m     75\u001b[0m     \u001b[38;5;28;01mreturn\u001b[39;00m node\u001b[38;5;241m.\u001b[39mvalue\n",
      "File \u001b[0;32m~/~miniconda3/lib/python3.11/ast.py:71\u001b[0m, in \u001b[0;36mliteral_eval.<locals>._raise_malformed_node\u001b[0;34m(node)\u001b[0m\n\u001b[1;32m     69\u001b[0m \u001b[38;5;28;01mif\u001b[39;00m lno \u001b[38;5;241m:=\u001b[39m \u001b[38;5;28mgetattr\u001b[39m(node, \u001b[38;5;124m'\u001b[39m\u001b[38;5;124mlineno\u001b[39m\u001b[38;5;124m'\u001b[39m, \u001b[38;5;28;01mNone\u001b[39;00m):\n\u001b[1;32m     70\u001b[0m     msg \u001b[38;5;241m+\u001b[39m\u001b[38;5;241m=\u001b[39m \u001b[38;5;124mf\u001b[39m\u001b[38;5;124m'\u001b[39m\u001b[38;5;124m on line \u001b[39m\u001b[38;5;132;01m{\u001b[39;00mlno\u001b[38;5;132;01m}\u001b[39;00m\u001b[38;5;124m'\u001b[39m\n\u001b[0;32m---> 71\u001b[0m \u001b[38;5;28;01mraise\u001b[39;00m \u001b[38;5;167;01mValueError\u001b[39;00m(msg \u001b[38;5;241m+\u001b[39m \u001b[38;5;124mf\u001b[39m\u001b[38;5;124m'\u001b[39m\u001b[38;5;124m: \u001b[39m\u001b[38;5;132;01m{\u001b[39;00mnode\u001b[38;5;132;01m!r}\u001b[39;00m\u001b[38;5;124m'\u001b[39m)\n",
      "\u001b[0;31mValueError\u001b[0m: malformed node or string on line 1: <ast.Call object at 0x7f55f8a975b0>"
     ]
    }
   ],
   "source": [
    "x = df_rotamers\n",
    "x = x.drop(columns=['metal','ion','pdb','pdb_id'])\n",
    "y = df_rotamers[\"metal\"]\n",
    "\n",
    "x.head()\n",
    "motif_binding_array = x[\"motif_binding_xyz\"]\n",
    "motif_binding_array[0]\n",
    "dic = ast.literal_eval(motif_binding_array[0])\n",
    "\n",
    "#x_train,x_test,y_train_y_test = train_test_split(x,y,test_size=.1)"
   ]
  },
  {
   "cell_type": "markdown",
   "id": "e547f22a-2aae-47ba-a3f7-33e4e5235fd9",
   "metadata": {},
   "source": [
    "test_string = '{\"Nikhil\" : 1, \"Akshat\" : 2, \"Akash\" : 3}'\n",
    "res = ast.literal_eval(test_string)\n",
    "motif_"
   ]
  },
  {
   "cell_type": "code",
   "execution_count": 55,
   "id": "1bb82da8-20c4-4256-ad4e-a4de7b9deb6e",
   "metadata": {},
   "outputs": [
    {
     "data": {
      "text/plain": [
       "\"{'xyz': ([[[-1.849, -6.217,  5.614],\\n        [-1.722, -5.22 ,  4.553],\\n        [-0.399, -4.468,  4.672],\\n        [ 0.209, -4.082,  3.667],\\n        [-2.889, -4.227,  4.63 ],\\n        [-2.819, -3.114,  3.601],\\n        [-2.095, -1.942,  3.848],\\n        [-3.494, -3.226,  2.386],\\n        [-2.053, -0.902,  2.903],\\n        [-3.459, -2.201,  1.439],\\n        [-2.744, -1.043,  1.705],\\n        [-2.759, -0.016,  0.789],\\n        [   nan,    nan,    nan],\\n        [   nan,    nan,    nan],\\n        [   nan,    nan,    nan],\\n        [   nan,    nan,    nan],\\n        [   nan,    nan,    nan],\\n        [   nan,    nan,    nan],\\n        [   nan,    nan,    nan],\\n        [   nan,    nan,    nan],\\n        [   nan,    nan,    nan],\\n        [   nan,    nan,    nan],\\n        [   nan,    nan,    nan],\\n        [   nan,    nan,    nan]]], dtype=float32), 'mask': ([[ True,  True,  True,  True,  True,  True,  True,  True,  True,\\n         True,  True,  True, False, False, False, False, False, False,\\n        False, False, False, False, False, False]]), 'idx': ([49]), 'seq': ([18]), 'pdb_idx': [('A', 49)], 'atom_type': ([['N', 'C', 'C', 'O', 'C', 'C', 'C', 'C', 'C', 'C', 'C', 'O', 'X',\\n        'X', 'X', 'X', 'X', 'X', 'X', 'X', 'X', 'X', 'X', 'X']],\\n      dtype='<U1'), 'xyz_het': ([[0., 0., 0.]]), 'info_het': [{'idx': 9513, 'atom_id': 'CA', 'atom_type': 'CA', 'name': 'CA'}]}\""
      ]
     },
     "execution_count": 55,
     "metadata": {},
     "output_type": "execute_result"
    }
   ],
   "source": [
    "string = motif_binding_array[0]\n",
    "string = string.replace(\" array\",\" \")\n",
    "string\n",
    "#dict=ast.literal_eval(string)"
   ]
  },
  {
   "cell_type": "code",
   "execution_count": 64,
   "id": "41127bff-0de4-476d-a884-c70eb2ecf958",
   "metadata": {},
   "outputs": [
    {
     "name": "stdout",
     "output_type": "stream",
     "text": [
      "MultiIndex([('1WWS_1.pdb', '1WWS', 'CA', 'Ca²⁺', ...),\n",
      "            ('4K9N_1.pdb', '4K9N', 'MG', 'Mg²⁺', ...),\n",
      "            ('2A0Q_1.pdb', '2A0Q',  'K',   'K⁺', ...),\n",
      "            ('3E7Z_1.pdb', '3E7Z', 'ZN', 'Zn²⁺', ...),\n",
      "            ('7MCI_1.pdb', '7MCI', 'CA', 'Ca²⁺', ...),\n",
      "            ('4RF4_1.pdb', '4RF4', 'MG', 'Mg²⁺', ...),\n",
      "            ('8AE1_1.pdb', '8AE1', 'CA', 'Ca²⁺', ...),\n",
      "            ('7TSC_1.pdb', '7TSC', 'ZN', 'Zn²⁺', ...),\n",
      "            ('4CBB_1.pdb', '4CBB',  'K',   'K⁺', ...),\n",
      "            ('4KCP_1.pdb', '4KCP', 'ZN', 'Zn²⁺', ...),\n",
      "            ...\n",
      "            ('7TSP_1.pdb', '7TSP', 'ZN', 'Zn²⁺', ...),\n",
      "            ('2B00_1.pdb', '2B00', 'CA', 'Ca²⁺', ...),\n",
      "            ('1L5B_1.pdb', '1L5B',  nan,  'Na⁺', ...),\n",
      "            ('3T4D_3.pdb', '3T4D',  'K',   'K⁺', ...),\n",
      "            ('6R7D_1.pdb', '6R7D', 'NI', 'Ni²⁺', ...),\n",
      "            ('1C3H_1.pdb', '1C3H', 'CA', 'Ca²⁺', ...),\n",
      "            ('7RWX_1.pdb', '7RWX', 'ZN', 'Zn²⁺', ...),\n",
      "            ('6PN8_1.pdb', '6PN8', 'ZN', 'Zn²⁺', ...),\n",
      "            ('6SAG_1.pdb', '6SAG', 'CA', 'Ca²⁺', ...),\n",
      "            ('1GRP_1.pdb', '1GRP', 'MG', 'Mg²⁺', ...)],\n",
      "           names=['pdb', 'pdb_id', 'metal', 'ion', 'bound_residue', 'num_bound_residue', 'paper_bound_residue', 'num_paper_bound_residue', 'num_bound_chain', 'motif_binding_xyz', 'num_NN_atom', 'NN_atom_properties'], length=2239)\n"
     ]
    }
   ],
   "source": [
    "mdf =pd.MultiIndex.from_frame(df_rotamers)\n",
    "print(mdf)"
   ]
  },
  {
   "cell_type": "code",
   "execution_count": 71,
   "id": "5e2101ed-a1c6-4e25-af43-d5048e9f7cbd",
   "metadata": {},
   "outputs": [
    {
     "data": {
      "text/html": [
       "<div>\n",
       "<style scoped>\n",
       "    .dataframe tbody tr th:only-of-type {\n",
       "        vertical-align: middle;\n",
       "    }\n",
       "\n",
       "    .dataframe tbody tr th {\n",
       "        vertical-align: top;\n",
       "    }\n",
       "\n",
       "    .dataframe thead th {\n",
       "        text-align: right;\n",
       "    }\n",
       "</style>\n",
       "<table border=\"1\" class=\"dataframe\">\n",
       "  <thead>\n",
       "    <tr style=\"text-align: right;\">\n",
       "      <th></th>\n",
       "      <th>Id</th>\n",
       "      <th>Element</th>\n",
       "      <th>Ion</th>\n",
       "      <th>Binding family</th>\n",
       "      <th>Amino acids or nucleotide residues names</th>\n",
       "      <th>All bound residues</th>\n",
       "      <th>Is homomer</th>\n",
       "      <th>Number of bound amino acids or nucleotide residues</th>\n",
       "      <th>Number of all bound residues</th>\n",
       "      <th>Number of coordinating chains</th>\n",
       "      <th>Representative</th>\n",
       "      <th>metal_binding_id</th>\n",
       "      <th>metal</th>\n",
       "    </tr>\n",
       "    <tr>\n",
       "      <th>pdb_id</th>\n",
       "      <th></th>\n",
       "      <th></th>\n",
       "      <th></th>\n",
       "      <th></th>\n",
       "      <th></th>\n",
       "      <th></th>\n",
       "      <th></th>\n",
       "      <th></th>\n",
       "      <th></th>\n",
       "      <th></th>\n",
       "      <th></th>\n",
       "      <th></th>\n",
       "      <th></th>\n",
       "    </tr>\n",
       "  </thead>\n",
       "  <tbody>\n",
       "    <tr>\n",
       "      <th>5LDB</th>\n",
       "      <td>5LDB-MG-1</td>\n",
       "      <td>MG</td>\n",
       "      <td>Mg²⁺</td>\n",
       "      <td>T2</td>\n",
       "      <td>THR.</td>\n",
       "      <td>HOH.THR.</td>\n",
       "      <td>True</td>\n",
       "      <td>2</td>\n",
       "      <td>3</td>\n",
       "      <td>2</td>\n",
       "      <td>True</td>\n",
       "      <td>1</td>\n",
       "      <td>MG</td>\n",
       "    </tr>\n",
       "    <tr>\n",
       "      <th>2SHK</th>\n",
       "      <td>2SHK-MG-1</td>\n",
       "      <td>MG</td>\n",
       "      <td>Mg²⁺</td>\n",
       "      <td>A1G2R2</td>\n",
       "      <td>ALA.ARG.GLY.</td>\n",
       "      <td>ALA.GLN.HOH.</td>\n",
       "      <td>True</td>\n",
       "      <td>5</td>\n",
       "      <td>5</td>\n",
       "      <td>2</td>\n",
       "      <td>False</td>\n",
       "      <td>1</td>\n",
       "      <td>MG</td>\n",
       "    </tr>\n",
       "    <tr>\n",
       "      <th>2R6T</th>\n",
       "      <td>2R6T-MG-1</td>\n",
       "      <td>MG</td>\n",
       "      <td>Mg²⁺</td>\n",
       "      <td>D1I1</td>\n",
       "      <td>ASP.ILE.</td>\n",
       "      <td>ASP.ATP.ILE.</td>\n",
       "      <td>True</td>\n",
       "      <td>2</td>\n",
       "      <td>3</td>\n",
       "      <td>2</td>\n",
       "      <td>False</td>\n",
       "      <td>1</td>\n",
       "      <td>MG</td>\n",
       "    </tr>\n",
       "    <tr>\n",
       "      <th>2R6T</th>\n",
       "      <td>2R6T-MG-2</td>\n",
       "      <td>MG</td>\n",
       "      <td>Mg²⁺</td>\n",
       "      <td>D1I1</td>\n",
       "      <td>ASP.ILE.</td>\n",
       "      <td>ASP.ATP.ILE.</td>\n",
       "      <td>True</td>\n",
       "      <td>2</td>\n",
       "      <td>3</td>\n",
       "      <td>2</td>\n",
       "      <td>False</td>\n",
       "      <td>2</td>\n",
       "      <td>MG</td>\n",
       "    </tr>\n",
       "    <tr>\n",
       "      <th>2R6T</th>\n",
       "      <td>2R6T-MG-3</td>\n",
       "      <td>MG</td>\n",
       "      <td>Mg²⁺</td>\n",
       "      <td>D1I1</td>\n",
       "      <td>ASP.ILE.</td>\n",
       "      <td>ASP.ATP.ILE.</td>\n",
       "      <td>True</td>\n",
       "      <td>2</td>\n",
       "      <td>3</td>\n",
       "      <td>2</td>\n",
       "      <td>False</td>\n",
       "      <td>3</td>\n",
       "      <td>MG</td>\n",
       "    </tr>\n",
       "  </tbody>\n",
       "</table>\n",
       "</div>"
      ],
      "text/plain": [
       "               Id Element   Ion Binding family  \\\n",
       "pdb_id                                           \n",
       "5LDB    5LDB-MG-1      MG  Mg²⁺             T2   \n",
       "2SHK    2SHK-MG-1      MG  Mg²⁺         A1G2R2   \n",
       "2R6T    2R6T-MG-1      MG  Mg²⁺           D1I1   \n",
       "2R6T    2R6T-MG-2      MG  Mg²⁺           D1I1   \n",
       "2R6T    2R6T-MG-3      MG  Mg²⁺           D1I1   \n",
       "\n",
       "       Amino acids or nucleotide residues names All bound residues  \\\n",
       "pdb_id                                                               \n",
       "5LDB                                       THR.           HOH.THR.   \n",
       "2SHK                               ALA.ARG.GLY.       ALA.GLN.HOH.   \n",
       "2R6T                                   ASP.ILE.       ASP.ATP.ILE.   \n",
       "2R6T                                   ASP.ILE.       ASP.ATP.ILE.   \n",
       "2R6T                                   ASP.ILE.       ASP.ATP.ILE.   \n",
       "\n",
       "        Is homomer  Number of bound amino acids or nucleotide residues  \\\n",
       "pdb_id                                                                   \n",
       "5LDB          True                                                  2    \n",
       "2SHK          True                                                  5    \n",
       "2R6T          True                                                  2    \n",
       "2R6T          True                                                  2    \n",
       "2R6T          True                                                  2    \n",
       "\n",
       "        Number of all bound residues  Number of coordinating chains  \\\n",
       "pdb_id                                                                \n",
       "5LDB                               3                              2   \n",
       "2SHK                               5                              2   \n",
       "2R6T                               3                              2   \n",
       "2R6T                               3                              2   \n",
       "2R6T                               3                              2   \n",
       "\n",
       "        Representative  metal_binding_id metal  \n",
       "pdb_id                                          \n",
       "5LDB              True                 1    MG  \n",
       "2SHK             False                 1    MG  \n",
       "2R6T             False                 1    MG  \n",
       "2R6T             False                 2    MG  \n",
       "2R6T             False                 3    MG  "
      ]
     },
     "execution_count": 71,
     "metadata": {},
     "output_type": "execute_result"
    }
   ],
   "source": [
    "df_homo_filter = pd.read_csv(\"df_homo_filter.csv\")\n",
    "pdbs = df_homo_filter[\"pdb_id\"].unique()\n",
    "df_homo_filter.set_index('pdb_id',inplace=True)\n",
    "CategoricalIndex"
   ]
  },
  {
   "cell_type": "code",
   "execution_count": null,
   "id": "2f42fd0f-613e-452a-a4ed-11993bdd2abb",
   "metadata": {},
   "outputs": [],
   "source": []
  }
 ],
 "metadata": {
  "kernelspec": {
   "display_name": "Python 3 (ipykernel)",
   "language": "python",
   "name": "python3"
  },
  "language_info": {
   "codemirror_mode": {
    "name": "ipython",
    "version": 3
   },
   "file_extension": ".py",
   "mimetype": "text/x-python",
   "name": "python",
   "nbconvert_exporter": "python",
   "pygments_lexer": "ipython3",
   "version": "3.11.5"
  }
 },
 "nbformat": 4,
 "nbformat_minor": 5
}
